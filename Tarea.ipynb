{
 "cells": [
  {
   "cell_type": "code",
   "execution_count": 3,
   "metadata": {},
   "outputs": [
    {
     "name": "stderr",
     "output_type": "stream",
     "text": [
      "C:\\Users\\maria\\AppData\\Local\\Temp\\ipykernel_29200\\1245459687.py:1: DeprecationWarning: \n",
      "Pyarrow will become a required dependency of pandas in the next major release of pandas (pandas 3.0),\n",
      "(to allow more performant data types, such as the Arrow string type, and better interoperability with other libraries)\n",
      "but was not found to be installed on your system.\n",
      "If this would cause problems for you,\n",
      "please provide us feedback at https://github.com/pandas-dev/pandas/issues/54466\n",
      "        \n",
      "  import pandas as pd\n"
     ]
    }
   ],
   "source": [
    "import pandas as pd \n",
    "import matplotlib.pyplot as plt\n"
   ]
  },
  {
   "cell_type": "code",
   "execution_count": 4,
   "metadata": {},
   "outputs": [],
   "source": [
    "path = \"Andbrain_DataSet.csv\"\n",
    "df = pd.read_csv(path)"
   ]
  },
  {
   "cell_type": "code",
   "execution_count": 5,
   "metadata": {},
   "outputs": [
    {
     "data": {
      "text/html": [
       "<div>\n",
       "<style scoped>\n",
       "    .dataframe tbody tr th:only-of-type {\n",
       "        vertical-align: middle;\n",
       "    }\n",
       "\n",
       "    .dataframe tbody tr th {\n",
       "        vertical-align: top;\n",
       "    }\n",
       "\n",
       "    .dataframe thead th {\n",
       "        text-align: right;\n",
       "    }\n",
       "</style>\n",
       "<table border=\"1\" class=\"dataframe\">\n",
       "  <thead>\n",
       "    <tr style=\"text-align: right;\">\n",
       "      <th></th>\n",
       "      <th>word</th>\n",
       "      <th>disgust</th>\n",
       "      <th>surprise</th>\n",
       "      <th>neutral</th>\n",
       "      <th>anger</th>\n",
       "      <th>sad</th>\n",
       "      <th>happy</th>\n",
       "      <th>fear</th>\n",
       "    </tr>\n",
       "  </thead>\n",
       "  <tbody>\n",
       "    <tr>\n",
       "      <th>0</th>\n",
       "      <td>ability</td>\n",
       "      <td>0.004464</td>\n",
       "      <td>0.047832</td>\n",
       "      <td>0.000638</td>\n",
       "      <td>0.023597</td>\n",
       "      <td>0.013393</td>\n",
       "      <td>0.015944</td>\n",
       "      <td>0.040179</td>\n",
       "    </tr>\n",
       "    <tr>\n",
       "      <th>1</th>\n",
       "      <td>able</td>\n",
       "      <td>0.000017</td>\n",
       "      <td>0.000182</td>\n",
       "      <td>0.000409</td>\n",
       "      <td>0.000176</td>\n",
       "      <td>0.000219</td>\n",
       "      <td>0.000244</td>\n",
       "      <td>0.000186</td>\n",
       "    </tr>\n",
       "    <tr>\n",
       "      <th>2</th>\n",
       "      <td>abuse</td>\n",
       "      <td>0.000532</td>\n",
       "      <td>0.000177</td>\n",
       "      <td>0.000177</td>\n",
       "      <td>0.137363</td>\n",
       "      <td>0.001241</td>\n",
       "      <td>0.001595</td>\n",
       "      <td>0.002659</td>\n",
       "    </tr>\n",
       "    <tr>\n",
       "      <th>3</th>\n",
       "      <td>academy</td>\n",
       "      <td>0.007143</td>\n",
       "      <td>0.021429</td>\n",
       "      <td>0.007143</td>\n",
       "      <td>0.007143</td>\n",
       "      <td>0.007143</td>\n",
       "      <td>0.092857</td>\n",
       "      <td>0.035714</td>\n",
       "    </tr>\n",
       "    <tr>\n",
       "      <th>4</th>\n",
       "      <td>accept</td>\n",
       "      <td>0.008271</td>\n",
       "      <td>0.006767</td>\n",
       "      <td>0.000752</td>\n",
       "      <td>0.048872</td>\n",
       "      <td>0.018797</td>\n",
       "      <td>0.024812</td>\n",
       "      <td>0.038346</td>\n",
       "    </tr>\n",
       "  </tbody>\n",
       "</table>\n",
       "</div>"
      ],
      "text/plain": [
       "       word   disgust  surprise   neutral     anger       sad     happy  \\\n",
       "0  ability   0.004464  0.047832  0.000638  0.023597  0.013393  0.015944   \n",
       "1     able   0.000017  0.000182  0.000409  0.000176  0.000219  0.000244   \n",
       "2    abuse   0.000532  0.000177  0.000177  0.137363  0.001241  0.001595   \n",
       "3  academy   0.007143  0.021429  0.007143  0.007143  0.007143  0.092857   \n",
       "4   accept   0.008271  0.006767  0.000752  0.048872  0.018797  0.024812   \n",
       "\n",
       "       fear  \n",
       "0  0.040179  \n",
       "1  0.000186  \n",
       "2  0.002659  \n",
       "3  0.035714  \n",
       "4  0.038346  "
      ]
     },
     "execution_count": 5,
     "metadata": {},
     "output_type": "execute_result"
    }
   ],
   "source": [
    "df.head()"
   ]
  },
  {
   "cell_type": "markdown",
   "metadata": {},
   "source": [
    "COLUMNA\n"
   ]
  },
  {
   "cell_type": "code",
   "execution_count": 9,
   "metadata": {},
   "outputs": [
    {
     "name": "stdout",
     "output_type": "stream",
     "text": [
      "Distribución de la columna 'disgust':\n",
      "count    1104.000000\n",
      "mean        0.012809\n",
      "std         0.015313\n",
      "min         0.000002\n",
      "25%         0.002528\n",
      "50%         0.007937\n",
      "75%         0.017857\n",
      "max         0.139456\n",
      "Name: disgust, dtype: float64\n",
      "\n"
     ]
    },
    {
     "data": {
      "image/png": "[encoded data removed]",
      "text/plain": [
       "<Figure size 640x480 with 1 Axes>"
      ]
     },
     "metadata": {},
     "output_type": "display_data"
    },
    {
     "name": "stdout",
     "output_type": "stream",
     "text": [
      "La columna 'disgust' tiene valores atípicos:\n",
      "22      0.071429\n",
      "36      0.041667\n",
      "58      0.057692\n",
      "86      0.042857\n",
      "207     0.045455\n",
      "265     0.071429\n",
      "281     0.067460\n",
      "310     0.068831\n",
      "338     0.083333\n",
      "361     0.086735\n",
      "391     0.046584\n",
      "467     0.065476\n",
      "522     0.107143\n",
      "529     0.119048\n",
      "584     0.042857\n",
      "615     0.042857\n",
      "657     0.092262\n",
      "670     0.089286\n",
      "672     0.054762\n",
      "689     0.042857\n",
      "691     0.071429\n",
      "722     0.052124\n",
      "758     0.139456\n",
      "782     0.051020\n",
      "793     0.051020\n",
      "806     0.044643\n",
      "849     0.053571\n",
      "886     0.089286\n",
      "915     0.056391\n",
      "917     0.092133\n",
      "941     0.107535\n",
      "957     0.059524\n",
      "971     0.071429\n",
      "995     0.059524\n",
      "999     0.050000\n",
      "1059    0.050000\n",
      "1062    0.044643\n",
      "1075    0.059524\n",
      "1076    0.047253\n",
      "Name: disgust, dtype: float64\n",
      "\n",
      "Cantidad de valores nulos en la columna 'disgust': 0\n",
      "\n"
     ]
    }
   ],
   "source": [
    "def analizar_columna(df, column_name):\n",
    "    # Obtener la columna del DataFrame\n",
    "    columna = df[column_name]\n",
    "    \n",
    "    # Calcular el rango intercuartílico (IQR)\n",
    "    Q1 = columna.quantile(0.25)\n",
    "    Q3 = columna.quantile(0.75)\n",
    "    IQR = Q3 - Q1\n",
    "    \n",
    "    # Identificar valores nulos\n",
    "    valores_nulos = columna.isnull().sum()\n",
    "    \n",
    "    # Identificar outliers\n",
    "    outliers = columna[(columna < (Q1 - 1.5 * IQR)) | (columna > (Q3 + 1.5 * IQR))]\n",
    "    \n",
    "    # Mostrar distribución de la columna\n",
    "    print(\"Distribución de la columna '{}':\".format(column_name))\n",
    "    print(columna.describe())\n",
    "    print()\n",
    "    \n",
    "    # Graficar histograma\n",
    "    plt.hist(columna, bins=10)  # Puedes ajustar el número de bins según tus datos\n",
    "    plt.title('Histograma de la columna {}'.format(column_name))\n",
    "    plt.xlabel('Valor')\n",
    "    plt.ylabel('Frecuencia')\n",
    "    plt.show()\n",
    "    \n",
    "    # Verificar si hay outliers\n",
    "    if len(outliers) > 0:\n",
    "        print(\"La columna '{}' tiene valores atípicos:\".format(column_name))\n",
    "        print(outliers)\n",
    "        print()\n",
    "    else:\n",
    "        print(\"La columna '{}' no tiene valores atípicos.\".format(column_name))\n",
    "        \n",
    "    # Mostrar cantidad de valores nulos\n",
    "    print(\"Cantidad de valores nulos en la columna '{}': {}\".format(column_name, valores_nulos))\n",
    "    print()\n",
    "\n",
    "# Ejemplo de uso\n",
    "# Suponiendo que 'df' es tu DataFrame y 'nombre_columna' es el nombre de la columna que deseas analizar\n",
    "nombre_columna = 'disgust'  # Reemplaza 'nombre_de_la_columna' con el nombre real de la columna\n",
    "analizar_columna(df, nombre_columna)\n"
   ]
  },
  {
   "cell_type": "markdown",
   "metadata": {},
   "source": [
    "Debido a que es una variable numerica, con una distribución normal o cercano a la normal que tiene valores atípicos, lo recomendado es usar la mediana. "
   ]
  }
 ],
 "metadata": {
  "kernelspec": {
   "display_name": "INGCaract",
   "language": "python",
   "name": "python3"
  },
  "language_info": {
   "codemirror_mode": {
    "name": "ipython",
    "version": 3
   },
   "file_extension": ".py",
   "mimetype": "text/x-python",
   "name": "python",
   "nbconvert_exporter": "python",
   "pygments_lexer": "ipython3",
   "version": "3.12.2"
  }
 },
 "nbformat": 4,
 "nbformat_minor": 2
}
