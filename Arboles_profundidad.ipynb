{
 "cells": [
  {
   "cell_type": "code",
   "execution_count": 5,
   "metadata": {},
   "outputs": [
    {
     "name": "stdout",
     "output_type": "stream",
     "text": [
      "[('a', 'b'), ('b', 'd'), ('d', 'c'), ('c', 'e'), ('e', 'f'), ('f', 'h'), ('e', 'g')]\n"
     ]
    },
    {
     "name": "stderr",
     "output_type": "stream",
     "text": [
      "C:\\Users\\maria\\AppData\\Local\\Temp\\ipykernel_2216\\374996852.py:13: FutureWarning: Downcasting object dtype arrays on .fillna, .ffill, .bfill is deprecated and will change in a future version. Call result.infer_objects(copy=False) instead. To opt-in to the future behavior, set `pd.set_option('future.no_silent_downcasting', True)`\n",
      "  grafo = grafo.fillna(0)\n"
     ]
    }
   ],
   "source": [
    "import pandas as pd\n",
    "\n",
    "V = list(\"abcdefgh\")\n",
    "grafo = pd.DataFrame(index=V, columns=V)\n",
    "grafo.loc[\"a\", [\"b\", \"c\", \"g\"]] = 1\n",
    "grafo.loc[\"b\", [\"a\", \"d\", \"g\"]] = 1\n",
    "grafo.loc[\"c\", [\"a\", \"d\", \"e\"]] = 1\n",
    "grafo.loc[\"d\", [\"b\", \"c\", \"f\"]] = 1\n",
    "grafo.loc[\"e\", [\"c\", \"f\", \"g\"]] = 1\n",
    "grafo.loc[\"f\", [\"d\", \"e\", \"h\"]] = 1\n",
    "grafo.loc[\"g\", [\"a\", \"b\", \"e\"]] = 1\n",
    "grafo.loc[\"h\", [\"f\"]] = 1\n",
    "grafo = grafo.fillna(0)\n",
    "\n",
    "Inicio = \"a\"\n",
    "Vertices = list(grafo.columns)\n",
    "S = [Inicio]\n",
    "Actual = Inicio\n",
    "Vertices_Visitados = [Inicio]\n",
    "Aristas_Visitadas = []\n",
    "W = Vertices.copy()\n",
    "\n",
    "def DFS(grafo, Actual, S, Vertices_Visitados, Aristas_Visitadas):\n",
    "    si = list(grafo.loc[grafo[Actual] == 1, Actual].index)\n",
    "    for y in si:\n",
    "        if y not in Vertices_Visitados:\n",
    "            S.append(y)\n",
    "            Aristas_Visitadas.append((Actual, y))\n",
    "            Vertices_Visitados.append(y)\n",
    "            DFS(grafo, y, S, Vertices_Visitados, Aristas_Visitadas)\n",
    "    return S, Aristas_Visitadas\n",
    "\n",
    "S, Aristas_Visitadas = DFS(grafo, Inicio, S, Vertices_Visitados, Aristas_Visitadas)\n",
    "print(Aristas_Visitadas)\n"
   ]
  }
 ],
 "metadata": {
  "kernelspec": {
   "display_name": "Python 3",
   "language": "python",
   "name": "python3"
  },
  "language_info": {
   "codemirror_mode": {
    "name": "ipython",
    "version": 3
   },
   "file_extension": ".py",
   "mimetype": "text/x-python",
   "name": "python",
   "nbconvert_exporter": "python",
   "pygments_lexer": "ipython3",
   "version": "3.12.2"
  }
 },
 "nbformat": 4,
 "nbformat_minor": 2
}
