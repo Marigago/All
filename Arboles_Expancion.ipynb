{
 "cells": [
  {
   "cell_type": "code",
   "execution_count": 64,
   "metadata": {},
   "outputs": [
    {
     "name": "stdout",
     "output_type": "stream",
     "text": [
      "Vértices: ['A', 'B', 'C', 'D', 'E', 'F', 'G', 'H']\n",
      "Aristas: [('D', 'B'), ('F', 'D'), ('H', 'F'), ('E', 'C'), ('G', 'A'), ('C', 'A'), ('A', 'B')]\n"
     ]
    }
   ],
   "source": [
    "import pandas as pd\n",
    "dic = {\n",
    "    \"A\": [(\"B\", \"C\", \"G\")],\n",
    "    \"B\": [(\"A\", \"D\", \"G\")],\n",
    "    \"C\": [(\"A\", \"E\",\"D\")],\n",
    "    \"D\": [(\"B\", \"F\",\"C\")],\n",
    "    \"E\": [(\"C\",)],\n",
    "    \"F\": [(\"D\", \"H\")],\n",
    "    \"G\": [(\"A\",)],\n",
    "    \"H\": [(\"F\",)]\n",
    "}\n",
    "\n",
    "df = pd.DataFrame.from_dict(dic, orient=\"index\", columns=[\"Conexiones\"])\n",
    "\n",
    "V = df.index.tolist()\n",
    "E = [(v, c) for v, conexiones in df.iterrows() for c in conexiones[\"Conexiones\"][0]]\n",
    "\n",
    "edges_set = set()\n",
    "\n",
    "# Iterar sobre cada arista en E\n",
    "for edge in E:\n",
    "    if (edge[1], edge[0]) not in edges_set:\n",
    "        edges_set.add(edge)\n",
    "        \n",
    "E = list(edges_set)\n",
    "\n",
    "print(\"Vértices:\", V)\n",
    "print(\"Aristas:\", E)\n",
    "\n",
    "\n"
   ]
  },
  {
   "cell_type": "code",
   "execution_count": 45,
   "metadata": {
    "notebookRunGroups": {
     "groupValue": "1"
    }
   },
   "outputs": [],
   "source": [
    "import pandas as pd\n",
    "\n",
    "V = list(\"abcdefgh\")\n",
    "grafo = pd.DataFrame(index= V, columns = V)\n",
    "grafo.loc[\"a\", [\"b\",\"c\",\"g\"]] = 1\n",
    "grafo.loc[\"b\", [\"a\",\"d\",\"g\"]] = 1\n",
    "grafo.loc[\"c\", [\"a\",\"d\",\"e\"]] = 1\n",
    "grafo.loc[\"d\", [\"b\",\"c\",\"f\"]] = 1\n",
    "grafo.loc[\"e\", [\"c\",\"f\",\"g\"]] = 1\n",
    "grafo.loc[\"f\", [\"d\",\"e\",\"h\"]] = 1\n",
    "grafo.loc[\"g\", [\"a\",\"b\",\"e\"]] = 1\n",
    "grafo.loc[\"h\", [\"f\",]] = 1\n",
    "grafo = grafo.fillna(0)\n",
    "grafo.to_json(\"grafo.json\")\n"
   ]
  },
  {
   "cell_type": "code",
   "execution_count": 46,
   "metadata": {
    "notebookRunGroups": {
     "groupValue": "1"
    }
   },
   "outputs": [],
   "source": [
    "v1 = \"a\"\n",
    "V = list(grafo.columns)\n",
    "S = [v1]\n",
    "Vp = [v1]\n",
    "Ep = []\n",
    "d = V.copy()\n",
    "d.remove(v1)\n",
    "s=[]"
   ]
  },
  {
   "cell_type": "code",
   "execution_count": 47,
   "metadata": {
    "notebookRunGroups": {
     "groupValue": "1"
    }
   },
   "outputs": [],
   "source": [
    "while True:\n",
    "    for x in S:\n",
    "        v = [y for y in d if y in grafo.loc[grafo[x] > 0, x]]\n",
    "        _=[(Ep.append((x,y)),Vp.append(y), s.append(y), d.remove(y)) for y in v]\n",
    "    if s ==[]:\n",
    "        break\n",
    "    S = s.copy()\n",
    "    s = []"
   ]
  },
  {
   "cell_type": "code",
   "execution_count": 48,
   "metadata": {
    "notebookRunGroups": {
     "groupValue": "1"
    }
   },
   "outputs": [
    {
     "data": {
      "text/plain": [
       "[('a', 'b'),\n",
       " ('a', 'c'),\n",
       " ('a', 'g'),\n",
       " ('b', 'd'),\n",
       " ('c', 'e'),\n",
       " ('d', 'f'),\n",
       " ('f', 'h')]"
      ]
     },
     "execution_count": 48,
     "metadata": {},
     "output_type": "execute_result"
    }
   ],
   "source": [
    "Ep"
   ]
  },
  {
   "cell_type": "code",
   "execution_count": 49,
   "metadata": {
    "notebookRunGroups": {
     "groupValue": "1"
    }
   },
   "outputs": [
    {
     "data": {
      "text/plain": [
       "['a', 'b', 'c', 'g', 'd', 'e', 'f', 'h']"
      ]
     },
     "execution_count": 49,
     "metadata": {},
     "output_type": "execute_result"
    }
   ],
   "source": [
    "Vp"
   ]
  }
 ],
 "metadata": {
  "kernelspec": {
   "display_name": "Python 3",
   "language": "python",
   "name": "python3"
  },
  "language_info": {
   "codemirror_mode": {
    "name": "ipython",
    "version": 3
   },
   "file_extension": ".py",
   "mimetype": "text/x-python",
   "name": "python",
   "nbconvert_exporter": "python",
   "pygments_lexer": "ipython3",
   "version": "3.12.0"
  }
 },
 "nbformat": 4,
 "nbformat_minor": 2
}
