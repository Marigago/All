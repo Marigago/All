{
 "cells": [
  {
   "cell_type": "code",
   "execution_count": 3,
   "metadata": {},
   "outputs": [],
   "source": [
    "import cv2 \n",
    "import pandas as pd\n",
    "import numpy as np"
   ]
  },
  {
   "cell_type": "code",
   "execution_count": 2,
   "metadata": {},
   "outputs": [],
   "source": [
    "imagen = cv2.imread(\"B.jpg\")\n",
    "\n",
    "cv2.imshow(\"B\", imagen)\n",
    "cv2.waitKey(0)\n",
    "cv2.destroyAllWindows()"
   ]
  },
  {
   "cell_type": "code",
   "execution_count": 4,
   "metadata": {},
   "outputs": [],
   "source": [
    "imgen_bin = np.zeros_like(imagen)\n",
    "\n",
    "cv2.imshow(\"Zeros\", imgen_bin)\n",
    "cv2.waitKey(0)\n",
    "cv2.destroyAllWindows()"
   ]
  },
  {
   "cell_type": "code",
   "execution_count": 17,
   "metadata": {},
   "outputs": [],
   "source": [
    "r, c, d = imagen.shape\n",
    "\n",
    "#r  29, 202\n",
    "#g  78, 217\n",
    "#b  212, 251\n",
    "#BGR\n",
    "\n",
    "for i in range(r):\n",
    "    for j in range(c):\n",
    "        if imagen[i, j, 0] >= 212 and imagen[i, j, 0] <251:\n",
    "            if imagen[i, j, 1] >= 78 and imagen[i, j, 1] <=217:\n",
    "                if imagen[i, j, 2] >= 29 and imagen[i, j, 2] <=202:\n",
    "                    imgen_bin[i,j,0], imgen_bin[i,j,1], imgen_bin[i,j,2] = 255,255,255\n",
    "\n"
   ]
  },
  {
   "cell_type": "code",
   "execution_count": 18,
   "metadata": {},
   "outputs": [],
   "source": [
    "#imgen_bin[:,:,0], imgen_bin[:,:,1], imgen_bin[:,:,2] = 255,255,255\n",
    "cv2.imshow(\"Zeros\", imgen_bin)\n",
    "cv2.waitKey(0)\n",
    "cv2.destroyAllWindows()"
   ]
  }
 ],
 "metadata": {
  "kernelspec": {
   "display_name": "base",
   "language": "python",
   "name": "python3"
  },
  "language_info": {
   "codemirror_mode": {
    "name": "ipython",
    "version": 3
   },
   "file_extension": ".py",
   "mimetype": "text/x-python",
   "name": "python",
   "nbconvert_exporter": "python",
   "pygments_lexer": "ipython3",
   "version": "3.11.4"
  }
 },
 "nbformat": 4,
 "nbformat_minor": 2
}
