{
 "cells": [
  {
   "cell_type": "code",
   "execution_count": 35,
   "metadata": {},
   "outputs": [],
   "source": [
    "import pandas as pd \n",
    "import numpy as np \n",
    "import matplotlib.pyplot as plt\n",
    "from sklearn.feature_extraction.text import TfidfVectorizer"
   ]
  },
  {
   "cell_type": "code",
   "execution_count": 36,
   "metadata": {},
   "outputs": [
    {
     "data": {
      "text/html": [
       "<div>\n",
       "<style scoped>\n",
       "    .dataframe tbody tr th:only-of-type {\n",
       "        vertical-align: middle;\n",
       "    }\n",
       "\n",
       "    .dataframe tbody tr th {\n",
       "        vertical-align: top;\n",
       "    }\n",
       "\n",
       "    .dataframe thead th {\n",
       "        text-align: right;\n",
       "    }\n",
       "</style>\n",
       "<table border=\"1\" class=\"dataframe\">\n",
       "  <thead>\n",
       "    <tr style=\"text-align: right;\">\n",
       "      <th></th>\n",
       "      <th>Nombre</th>\n",
       "      <th>Edad</th>\n",
       "      <th>Formación académica</th>\n",
       "      <th>Antigüedad</th>\n",
       "      <th>Resultado de evaluación</th>\n",
       "    </tr>\n",
       "  </thead>\n",
       "  <tbody>\n",
       "    <tr>\n",
       "      <th>0</th>\n",
       "      <td>Alvarado Zepeda Diana</td>\n",
       "      <td>51.0</td>\n",
       "      <td>Ingeniería Industrial</td>\n",
       "      <td>16.0</td>\n",
       "      <td>3.625</td>\n",
       "    </tr>\n",
       "    <tr>\n",
       "      <th>1</th>\n",
       "      <td>Bonilla Sandoval Martín</td>\n",
       "      <td>65.0</td>\n",
       "      <td>Licenciatura en sociología</td>\n",
       "      <td>9.0</td>\n",
       "      <td>6.070</td>\n",
       "    </tr>\n",
       "    <tr>\n",
       "      <th>2</th>\n",
       "      <td>Bonilla Sánchez Daniel</td>\n",
       "      <td>28.0</td>\n",
       "      <td>Lic. en matemáticas</td>\n",
       "      <td>15.0</td>\n",
       "      <td>4.630</td>\n",
       "    </tr>\n",
       "    <tr>\n",
       "      <th>3</th>\n",
       "      <td>Bravo Cortéz Marcos</td>\n",
       "      <td>53.0</td>\n",
       "      <td>Ingeniería en Mecatrónica</td>\n",
       "      <td>11.0</td>\n",
       "      <td>6.525</td>\n",
       "    </tr>\n",
       "    <tr>\n",
       "      <th>4</th>\n",
       "      <td>Bravo Gomez Pedro</td>\n",
       "      <td>33.0</td>\n",
       "      <td>Ingeniería en Mecatrónica</td>\n",
       "      <td>11.0</td>\n",
       "      <td>7.990</td>\n",
       "    </tr>\n",
       "    <tr>\n",
       "      <th>...</th>\n",
       "      <td>...</td>\n",
       "      <td>...</td>\n",
       "      <td>...</td>\n",
       "      <td>...</td>\n",
       "      <td>...</td>\n",
       "    </tr>\n",
       "    <tr>\n",
       "      <th>70</th>\n",
       "      <td>Ávila López Carmen</td>\n",
       "      <td>68.0</td>\n",
       "      <td>Ing. en mecatrónica</td>\n",
       "      <td>6.0</td>\n",
       "      <td>NaN</td>\n",
       "    </tr>\n",
       "    <tr>\n",
       "      <th>71</th>\n",
       "      <td>Jiménez de Alba Enrique</td>\n",
       "      <td>58.0</td>\n",
       "      <td>NaN</td>\n",
       "      <td>NaN</td>\n",
       "      <td>5.755</td>\n",
       "    </tr>\n",
       "    <tr>\n",
       "      <th>72</th>\n",
       "      <td>Sánchez Pineda Ramón</td>\n",
       "      <td>36.0</td>\n",
       "      <td>NaN</td>\n",
       "      <td>15.0</td>\n",
       "      <td>4.680</td>\n",
       "    </tr>\n",
       "    <tr>\n",
       "      <th>73</th>\n",
       "      <td>Pérez Jiménez Francisco</td>\n",
       "      <td>64.0</td>\n",
       "      <td>Ingeniería en Mecatrónica</td>\n",
       "      <td>NaN</td>\n",
       "      <td>4.410</td>\n",
       "    </tr>\n",
       "    <tr>\n",
       "      <th>74</th>\n",
       "      <td>Pineda Zepeda Karen</td>\n",
       "      <td>55.0</td>\n",
       "      <td>Ingeniería civil</td>\n",
       "      <td>13.0</td>\n",
       "      <td>NaN</td>\n",
       "    </tr>\n",
       "  </tbody>\n",
       "</table>\n",
       "<p>75 rows × 5 columns</p>\n",
       "</div>"
      ],
      "text/plain": [
       "                     Nombre  Edad         Formación académica  Antigüedad  \\\n",
       "0     Alvarado Zepeda Diana  51.0       Ingeniería Industrial        16.0   \n",
       "1   Bonilla Sandoval Martín  65.0  Licenciatura en sociología         9.0   \n",
       "2    Bonilla Sánchez Daniel  28.0         Lic. en matemáticas        15.0   \n",
       "3       Bravo Cortéz Marcos  53.0   Ingeniería en Mecatrónica        11.0   \n",
       "4         Bravo Gomez Pedro  33.0   Ingeniería en Mecatrónica        11.0   \n",
       "..                      ...   ...                         ...         ...   \n",
       "70       Ávila López Carmen  68.0         Ing. en mecatrónica         6.0   \n",
       "71  Jiménez de Alba Enrique  58.0                         NaN         NaN   \n",
       "72     Sánchez Pineda Ramón  36.0                         NaN        15.0   \n",
       "73  Pérez Jiménez Francisco  64.0   Ingeniería en Mecatrónica         NaN   \n",
       "74      Pineda Zepeda Karen  55.0            Ingeniería civil        13.0   \n",
       "\n",
       "    Resultado de evaluación  \n",
       "0                     3.625  \n",
       "1                     6.070  \n",
       "2                     4.630  \n",
       "3                     6.525  \n",
       "4                     7.990  \n",
       "..                      ...  \n",
       "70                      NaN  \n",
       "71                    5.755  \n",
       "72                    4.680  \n",
       "73                    4.410  \n",
       "74                      NaN  \n",
       "\n",
       "[75 rows x 5 columns]"
      ]
     },
     "execution_count": 36,
     "metadata": {},
     "output_type": "execute_result"
    }
   ],
   "source": [
    "path = \"Practica_one.csv\"\n",
    "df = pd.read_csv(path)\n",
    "df"
   ]
  },
  {
   "cell_type": "code",
   "execution_count": 37,
   "metadata": {},
   "outputs": [
    {
     "data": {
      "text/plain": [
       "(75, 5)"
      ]
     },
     "execution_count": 37,
     "metadata": {},
     "output_type": "execute_result"
    }
   ],
   "source": [
    "df.shape"
   ]
  },
  {
   "cell_type": "code",
   "execution_count": 38,
   "metadata": {},
   "outputs": [
    {
     "data": {
      "text/plain": [
       "Nombre                     0\n",
       "Edad                       5\n",
       "Formación académica        5\n",
       "Antigüedad                 4\n",
       "Resultado de evaluación    3\n",
       "dtype: int64"
      ]
     },
     "execution_count": 38,
     "metadata": {},
     "output_type": "execute_result"
    }
   ],
   "source": [
    "df.isna().sum()"
   ]
  },
  {
   "cell_type": "code",
   "execution_count": 39,
   "metadata": {},
   "outputs": [
    {
     "data": {
      "text/plain": [
       "-1.3068316092609022"
      ]
     },
     "execution_count": 39,
     "metadata": {},
     "output_type": "execute_result"
    }
   ],
   "source": [
    "df[\"Edad\"].kurt()"
   ]
  },
  {
   "cell_type": "code",
   "execution_count": 40,
   "metadata": {},
   "outputs": [
    {
     "data": {
      "text/plain": [
       "0.1289581810705296"
      ]
     },
     "execution_count": 40,
     "metadata": {},
     "output_type": "execute_result"
    }
   ],
   "source": [
    "df[\"Antigüedad\"].kurt()"
   ]
  },
  {
   "cell_type": "code",
   "execution_count": 41,
   "metadata": {},
   "outputs": [
    {
     "data": {
      "text/plain": [
       "0.893258600734125"
      ]
     },
     "execution_count": 41,
     "metadata": {},
     "output_type": "execute_result"
    }
   ],
   "source": [
    "df[\"Resultado de evaluación\"].kurt()"
   ]
  },
  {
   "cell_type": "code",
   "execution_count": 42,
   "metadata": {},
   "outputs": [
    {
     "name": "stderr",
     "output_type": "stream",
     "text": [
      "C:\\Users\\esteb\\AppData\\Local\\Temp\\ipykernel_1292\\1583093705.py:1: FutureWarning: A value is trying to be set on a copy of a DataFrame or Series through chained assignment using an inplace method.\n",
      "The behavior will change in pandas 3.0. This inplace method will never work because the intermediate object on which we are setting values always behaves as a copy.\n",
      "\n",
      "For example, when doing 'df[col].method(value, inplace=True)', try using 'df.method({col: value}, inplace=True)' or df[col] = df[col].method(value) instead, to perform the operation inplace on the original object.\n",
      "\n",
      "\n",
      "  df[\"Formación académica\"].fillna(df[\"Formación académica\"].mode()[0], inplace=True)\n"
     ]
    },
    {
     "data": {
      "text/plain": [
       "Nombre                     0\n",
       "Edad                       5\n",
       "Formación académica        0\n",
       "Antigüedad                 4\n",
       "Resultado de evaluación    3\n",
       "dtype: int64"
      ]
     },
     "execution_count": 42,
     "metadata": {},
     "output_type": "execute_result"
    }
   ],
   "source": [
    "df[\"Formación académica\"].fillna(df[\"Formación académica\"].mode()[0], inplace=True)\n",
    "df.isna().sum()"
   ]
  },
  {
   "cell_type": "code",
   "execution_count": 43,
   "metadata": {},
   "outputs": [
    {
     "data": {
      "text/plain": [
       "array([36., 26., 54., 53., 60.])"
      ]
     },
     "execution_count": 43,
     "metadata": {},
     "output_type": "execute_result"
    }
   ],
   "source": [
    "random_val = np.random.choice(df[\"Edad\"].dropna(), size= 5)\n",
    "random_val"
   ]
  },
  {
   "cell_type": "code",
   "execution_count": 44,
   "metadata": {},
   "outputs": [
    {
     "data": {
      "text/plain": [
       "array([61, 62, 64, 66, 67], dtype=int64)"
      ]
     },
     "execution_count": 44,
     "metadata": {},
     "output_type": "execute_result"
    }
   ],
   "source": [
    "nanEdad, = np.where(df[\"Edad\"].isna())\n",
    "nanEdad"
   ]
  },
  {
   "cell_type": "code",
   "execution_count": 45,
   "metadata": {},
   "outputs": [
    {
     "data": {
      "text/plain": [
       "Nombre                     0\n",
       "Edad                       0\n",
       "Formación académica        0\n",
       "Antigüedad                 4\n",
       "Resultado de evaluación    3\n",
       "dtype: int64"
      ]
     },
     "execution_count": 45,
     "metadata": {},
     "output_type": "execute_result"
    }
   ],
   "source": [
    "df.loc[nanEdad, \"Edad\"] = random_val\n",
    "df.isna().sum()"
   ]
  },
  {
   "cell_type": "code",
   "execution_count": 46,
   "metadata": {},
   "outputs": [
    {
     "data": {
      "text/plain": [
       "<Axes: >"
      ]
     },
     "execution_count": 46,
     "metadata": {},
     "output_type": "execute_result"
    }
   ],
   "source": [
    "df.boxplot()"
   ]
  },
  {
   "cell_type": "code",
   "execution_count": 47,
   "metadata": {},
   "outputs": [
    {
     "name": "stderr",
     "output_type": "stream",
     "text": [
      "C:\\Users\\esteb\\AppData\\Local\\Temp\\ipykernel_1292\\329088421.py:1: FutureWarning: A value is trying to be set on a copy of a DataFrame or Series through chained assignment using an inplace method.\n",
      "The behavior will change in pandas 3.0. This inplace method will never work because the intermediate object on which we are setting values always behaves as a copy.\n",
      "\n",
      "For example, when doing 'df[col].method(value, inplace=True)', try using 'df.method({col: value}, inplace=True)' or df[col] = df[col].method(value) instead, to perform the operation inplace on the original object.\n",
      "\n",
      "\n",
      "  df[\"Antigüedad\"].fillna(df[\"Antigüedad\"].median(), inplace=True)\n"
     ]
    },
    {
     "data": {
      "text/plain": [
       "Nombre                     0\n",
       "Edad                       0\n",
       "Formación académica        0\n",
       "Antigüedad                 0\n",
       "Resultado de evaluación    3\n",
       "dtype: int64"
      ]
     },
     "execution_count": 47,
     "metadata": {},
     "output_type": "execute_result"
    }
   ],
   "source": [
    "df[\"Antigüedad\"].fillna(df[\"Antigüedad\"].median(), inplace=True)\n",
    "df.isna().sum()"
   ]
  },
  {
   "cell_type": "code",
   "execution_count": 48,
   "metadata": {},
   "outputs": [
    {
     "name": "stderr",
     "output_type": "stream",
     "text": [
      "C:\\Users\\esteb\\AppData\\Local\\Temp\\ipykernel_1292\\2049389781.py:1: FutureWarning: A value is trying to be set on a copy of a DataFrame or Series through chained assignment using an inplace method.\n",
      "The behavior will change in pandas 3.0. This inplace method will never work because the intermediate object on which we are setting values always behaves as a copy.\n",
      "\n",
      "For example, when doing 'df[col].method(value, inplace=True)', try using 'df.method({col: value}, inplace=True)' or df[col] = df[col].method(value) instead, to perform the operation inplace on the original object.\n",
      "\n",
      "\n",
      "  df[\"Resultado de evaluación\"].fillna(df[\"Resultado de evaluación\"].mean(), inplace=True)\n"
     ]
    },
    {
     "data": {
      "text/plain": [
       "Nombre                     0\n",
       "Edad                       0\n",
       "Formación académica        0\n",
       "Antigüedad                 0\n",
       "Resultado de evaluación    0\n",
       "dtype: int64"
      ]
     },
     "execution_count": 48,
     "metadata": {},
     "output_type": "execute_result"
    }
   ],
   "source": [
    "df[\"Resultado de evaluación\"].fillna(df[\"Resultado de evaluación\"].mean(), inplace=True)\n",
    "df.isna().sum()"
   ]
  },
  {
   "cell_type": "code",
   "execution_count": 49,
   "metadata": {},
   "outputs": [
    {
     "data": {
      "text/html": [
       "<div>\n",
       "<style scoped>\n",
       "    .dataframe tbody tr th:only-of-type {\n",
       "        vertical-align: middle;\n",
       "    }\n",
       "\n",
       "    .dataframe tbody tr th {\n",
       "        vertical-align: top;\n",
       "    }\n",
       "\n",
       "    .dataframe thead th {\n",
       "        text-align: right;\n",
       "    }\n",
       "</style>\n",
       "<table border=\"1\" class=\"dataframe\">\n",
       "  <thead>\n",
       "    <tr style=\"text-align: right;\">\n",
       "      <th></th>\n",
       "      <th>Nombre</th>\n",
       "      <th>Edad</th>\n",
       "      <th>Antigüedad</th>\n",
       "      <th>Resultado de evaluación</th>\n",
       "      <th>administración</th>\n",
       "      <th>agronomía</th>\n",
       "      <th>civil</th>\n",
       "      <th>computación</th>\n",
       "      <th>comunicaciones</th>\n",
       "      <th>contaduría</th>\n",
       "      <th>...</th>\n",
       "      <th>ing</th>\n",
       "      <th>ingeniería</th>\n",
       "      <th>lic</th>\n",
       "      <th>licenciatura</th>\n",
       "      <th>matemáticas</th>\n",
       "      <th>mecatrónica</th>\n",
       "      <th>mecánica</th>\n",
       "      <th>psicología</th>\n",
       "      <th>sociología</th>\n",
       "      <th>topografía</th>\n",
       "    </tr>\n",
       "  </thead>\n",
       "  <tbody>\n",
       "    <tr>\n",
       "      <th>0</th>\n",
       "      <td>Alvarado Zepeda Diana</td>\n",
       "      <td>51.0</td>\n",
       "      <td>16.0</td>\n",
       "      <td>3.625000</td>\n",
       "      <td>0.0</td>\n",
       "      <td>0.0</td>\n",
       "      <td>0.000000</td>\n",
       "      <td>0.0</td>\n",
       "      <td>0.0</td>\n",
       "      <td>0.0</td>\n",
       "      <td>...</td>\n",
       "      <td>0.000000</td>\n",
       "      <td>0.628832</td>\n",
       "      <td>0.000000</td>\n",
       "      <td>0.000000</td>\n",
       "      <td>0.000000</td>\n",
       "      <td>0.000000</td>\n",
       "      <td>0.0</td>\n",
       "      <td>0.0</td>\n",
       "      <td>0.000000</td>\n",
       "      <td>0.0</td>\n",
       "    </tr>\n",
       "    <tr>\n",
       "      <th>1</th>\n",
       "      <td>Bonilla Sandoval Martín</td>\n",
       "      <td>65.0</td>\n",
       "      <td>9.0</td>\n",
       "      <td>6.070000</td>\n",
       "      <td>0.0</td>\n",
       "      <td>0.0</td>\n",
       "      <td>0.000000</td>\n",
       "      <td>0.0</td>\n",
       "      <td>0.0</td>\n",
       "      <td>0.0</td>\n",
       "      <td>...</td>\n",
       "      <td>0.000000</td>\n",
       "      <td>0.000000</td>\n",
       "      <td>0.000000</td>\n",
       "      <td>0.546169</td>\n",
       "      <td>0.000000</td>\n",
       "      <td>0.000000</td>\n",
       "      <td>0.0</td>\n",
       "      <td>0.0</td>\n",
       "      <td>0.788128</td>\n",
       "      <td>0.0</td>\n",
       "    </tr>\n",
       "    <tr>\n",
       "      <th>2</th>\n",
       "      <td>Bonilla Sánchez Daniel</td>\n",
       "      <td>28.0</td>\n",
       "      <td>15.0</td>\n",
       "      <td>4.630000</td>\n",
       "      <td>0.0</td>\n",
       "      <td>0.0</td>\n",
       "      <td>0.000000</td>\n",
       "      <td>0.0</td>\n",
       "      <td>0.0</td>\n",
       "      <td>0.0</td>\n",
       "      <td>...</td>\n",
       "      <td>0.000000</td>\n",
       "      <td>0.000000</td>\n",
       "      <td>0.558443</td>\n",
       "      <td>0.000000</td>\n",
       "      <td>0.780477</td>\n",
       "      <td>0.000000</td>\n",
       "      <td>0.0</td>\n",
       "      <td>0.0</td>\n",
       "      <td>0.000000</td>\n",
       "      <td>0.0</td>\n",
       "    </tr>\n",
       "    <tr>\n",
       "      <th>3</th>\n",
       "      <td>Bravo Cortéz Marcos</td>\n",
       "      <td>53.0</td>\n",
       "      <td>11.0</td>\n",
       "      <td>6.525000</td>\n",
       "      <td>0.0</td>\n",
       "      <td>0.0</td>\n",
       "      <td>0.000000</td>\n",
       "      <td>0.0</td>\n",
       "      <td>0.0</td>\n",
       "      <td>0.0</td>\n",
       "      <td>...</td>\n",
       "      <td>0.000000</td>\n",
       "      <td>0.481888</td>\n",
       "      <td>0.000000</td>\n",
       "      <td>0.000000</td>\n",
       "      <td>0.000000</td>\n",
       "      <td>0.772436</td>\n",
       "      <td>0.0</td>\n",
       "      <td>0.0</td>\n",
       "      <td>0.000000</td>\n",
       "      <td>0.0</td>\n",
       "    </tr>\n",
       "    <tr>\n",
       "      <th>4</th>\n",
       "      <td>Bravo Gomez Pedro</td>\n",
       "      <td>33.0</td>\n",
       "      <td>11.0</td>\n",
       "      <td>7.990000</td>\n",
       "      <td>0.0</td>\n",
       "      <td>0.0</td>\n",
       "      <td>0.000000</td>\n",
       "      <td>0.0</td>\n",
       "      <td>0.0</td>\n",
       "      <td>0.0</td>\n",
       "      <td>...</td>\n",
       "      <td>0.000000</td>\n",
       "      <td>0.481888</td>\n",
       "      <td>0.000000</td>\n",
       "      <td>0.000000</td>\n",
       "      <td>0.000000</td>\n",
       "      <td>0.772436</td>\n",
       "      <td>0.0</td>\n",
       "      <td>0.0</td>\n",
       "      <td>0.000000</td>\n",
       "      <td>0.0</td>\n",
       "    </tr>\n",
       "    <tr>\n",
       "      <th>...</th>\n",
       "      <td>...</td>\n",
       "      <td>...</td>\n",
       "      <td>...</td>\n",
       "      <td>...</td>\n",
       "      <td>...</td>\n",
       "      <td>...</td>\n",
       "      <td>...</td>\n",
       "      <td>...</td>\n",
       "      <td>...</td>\n",
       "      <td>...</td>\n",
       "      <td>...</td>\n",
       "      <td>...</td>\n",
       "      <td>...</td>\n",
       "      <td>...</td>\n",
       "      <td>...</td>\n",
       "      <td>...</td>\n",
       "      <td>...</td>\n",
       "      <td>...</td>\n",
       "      <td>...</td>\n",
       "      <td>...</td>\n",
       "      <td>...</td>\n",
       "    </tr>\n",
       "    <tr>\n",
       "      <th>70</th>\n",
       "      <td>Ávila López Carmen</td>\n",
       "      <td>68.0</td>\n",
       "      <td>6.0</td>\n",
       "      <td>5.484306</td>\n",
       "      <td>0.0</td>\n",
       "      <td>0.0</td>\n",
       "      <td>0.000000</td>\n",
       "      <td>0.0</td>\n",
       "      <td>0.0</td>\n",
       "      <td>0.0</td>\n",
       "      <td>...</td>\n",
       "      <td>0.586067</td>\n",
       "      <td>0.000000</td>\n",
       "      <td>0.000000</td>\n",
       "      <td>0.000000</td>\n",
       "      <td>0.000000</td>\n",
       "      <td>0.714280</td>\n",
       "      <td>0.0</td>\n",
       "      <td>0.0</td>\n",
       "      <td>0.000000</td>\n",
       "      <td>0.0</td>\n",
       "    </tr>\n",
       "    <tr>\n",
       "      <th>71</th>\n",
       "      <td>Jiménez de Alba Enrique</td>\n",
       "      <td>58.0</td>\n",
       "      <td>16.0</td>\n",
       "      <td>5.755000</td>\n",
       "      <td>0.0</td>\n",
       "      <td>0.0</td>\n",
       "      <td>0.000000</td>\n",
       "      <td>0.0</td>\n",
       "      <td>0.0</td>\n",
       "      <td>0.0</td>\n",
       "      <td>...</td>\n",
       "      <td>0.000000</td>\n",
       "      <td>0.628832</td>\n",
       "      <td>0.000000</td>\n",
       "      <td>0.000000</td>\n",
       "      <td>0.000000</td>\n",
       "      <td>0.000000</td>\n",
       "      <td>0.0</td>\n",
       "      <td>0.0</td>\n",
       "      <td>0.000000</td>\n",
       "      <td>0.0</td>\n",
       "    </tr>\n",
       "    <tr>\n",
       "      <th>72</th>\n",
       "      <td>Sánchez Pineda Ramón</td>\n",
       "      <td>36.0</td>\n",
       "      <td>15.0</td>\n",
       "      <td>4.680000</td>\n",
       "      <td>0.0</td>\n",
       "      <td>0.0</td>\n",
       "      <td>0.000000</td>\n",
       "      <td>0.0</td>\n",
       "      <td>0.0</td>\n",
       "      <td>0.0</td>\n",
       "      <td>...</td>\n",
       "      <td>0.000000</td>\n",
       "      <td>0.628832</td>\n",
       "      <td>0.000000</td>\n",
       "      <td>0.000000</td>\n",
       "      <td>0.000000</td>\n",
       "      <td>0.000000</td>\n",
       "      <td>0.0</td>\n",
       "      <td>0.0</td>\n",
       "      <td>0.000000</td>\n",
       "      <td>0.0</td>\n",
       "    </tr>\n",
       "    <tr>\n",
       "      <th>73</th>\n",
       "      <td>Pérez Jiménez Francisco</td>\n",
       "      <td>64.0</td>\n",
       "      <td>16.0</td>\n",
       "      <td>4.410000</td>\n",
       "      <td>0.0</td>\n",
       "      <td>0.0</td>\n",
       "      <td>0.000000</td>\n",
       "      <td>0.0</td>\n",
       "      <td>0.0</td>\n",
       "      <td>0.0</td>\n",
       "      <td>...</td>\n",
       "      <td>0.000000</td>\n",
       "      <td>0.481888</td>\n",
       "      <td>0.000000</td>\n",
       "      <td>0.000000</td>\n",
       "      <td>0.000000</td>\n",
       "      <td>0.772436</td>\n",
       "      <td>0.0</td>\n",
       "      <td>0.0</td>\n",
       "      <td>0.000000</td>\n",
       "      <td>0.0</td>\n",
       "    </tr>\n",
       "    <tr>\n",
       "      <th>74</th>\n",
       "      <td>Pineda Zepeda Karen</td>\n",
       "      <td>55.0</td>\n",
       "      <td>13.0</td>\n",
       "      <td>5.484306</td>\n",
       "      <td>0.0</td>\n",
       "      <td>0.0</td>\n",
       "      <td>0.911888</td>\n",
       "      <td>0.0</td>\n",
       "      <td>0.0</td>\n",
       "      <td>0.0</td>\n",
       "      <td>...</td>\n",
       "      <td>0.000000</td>\n",
       "      <td>0.410439</td>\n",
       "      <td>0.000000</td>\n",
       "      <td>0.000000</td>\n",
       "      <td>0.000000</td>\n",
       "      <td>0.000000</td>\n",
       "      <td>0.0</td>\n",
       "      <td>0.0</td>\n",
       "      <td>0.000000</td>\n",
       "      <td>0.0</td>\n",
       "    </tr>\n",
       "  </tbody>\n",
       "</table>\n",
       "<p>75 rows × 26 columns</p>\n",
       "</div>"
      ],
      "text/plain": [
       "                     Nombre  Edad  Antigüedad  Resultado de evaluación  \\\n",
       "0     Alvarado Zepeda Diana  51.0        16.0                 3.625000   \n",
       "1   Bonilla Sandoval Martín  65.0         9.0                 6.070000   \n",
       "2    Bonilla Sánchez Daniel  28.0        15.0                 4.630000   \n",
       "3       Bravo Cortéz Marcos  53.0        11.0                 6.525000   \n",
       "4         Bravo Gomez Pedro  33.0        11.0                 7.990000   \n",
       "..                      ...   ...         ...                      ...   \n",
       "70       Ávila López Carmen  68.0         6.0                 5.484306   \n",
       "71  Jiménez de Alba Enrique  58.0        16.0                 5.755000   \n",
       "72     Sánchez Pineda Ramón  36.0        15.0                 4.680000   \n",
       "73  Pérez Jiménez Francisco  64.0        16.0                 4.410000   \n",
       "74      Pineda Zepeda Karen  55.0        13.0                 5.484306   \n",
       "\n",
       "    administración  agronomía     civil  computación  comunicaciones  \\\n",
       "0              0.0        0.0  0.000000          0.0             0.0   \n",
       "1              0.0        0.0  0.000000          0.0             0.0   \n",
       "2              0.0        0.0  0.000000          0.0             0.0   \n",
       "3              0.0        0.0  0.000000          0.0             0.0   \n",
       "4              0.0        0.0  0.000000          0.0             0.0   \n",
       "..             ...        ...       ...          ...             ...   \n",
       "70             0.0        0.0  0.000000          0.0             0.0   \n",
       "71             0.0        0.0  0.000000          0.0             0.0   \n",
       "72             0.0        0.0  0.000000          0.0             0.0   \n",
       "73             0.0        0.0  0.000000          0.0             0.0   \n",
       "74             0.0        0.0  0.911888          0.0             0.0   \n",
       "\n",
       "    contaduría  ...       ing  ingeniería       lic  licenciatura  \\\n",
       "0          0.0  ...  0.000000    0.628832  0.000000      0.000000   \n",
       "1          0.0  ...  0.000000    0.000000  0.000000      0.546169   \n",
       "2          0.0  ...  0.000000    0.000000  0.558443      0.000000   \n",
       "3          0.0  ...  0.000000    0.481888  0.000000      0.000000   \n",
       "4          0.0  ...  0.000000    0.481888  0.000000      0.000000   \n",
       "..         ...  ...       ...         ...       ...           ...   \n",
       "70         0.0  ...  0.586067    0.000000  0.000000      0.000000   \n",
       "71         0.0  ...  0.000000    0.628832  0.000000      0.000000   \n",
       "72         0.0  ...  0.000000    0.628832  0.000000      0.000000   \n",
       "73         0.0  ...  0.000000    0.481888  0.000000      0.000000   \n",
       "74         0.0  ...  0.000000    0.410439  0.000000      0.000000   \n",
       "\n",
       "    matemáticas  mecatrónica  mecánica  psicología  sociología  topografía  \n",
       "0      0.000000     0.000000       0.0         0.0    0.000000         0.0  \n",
       "1      0.000000     0.000000       0.0         0.0    0.788128         0.0  \n",
       "2      0.780477     0.000000       0.0         0.0    0.000000         0.0  \n",
       "3      0.000000     0.772436       0.0         0.0    0.000000         0.0  \n",
       "4      0.000000     0.772436       0.0         0.0    0.000000         0.0  \n",
       "..          ...          ...       ...         ...         ...         ...  \n",
       "70     0.000000     0.714280       0.0         0.0    0.000000         0.0  \n",
       "71     0.000000     0.000000       0.0         0.0    0.000000         0.0  \n",
       "72     0.000000     0.000000       0.0         0.0    0.000000         0.0  \n",
       "73     0.000000     0.772436       0.0         0.0    0.000000         0.0  \n",
       "74     0.000000     0.000000       0.0         0.0    0.000000         0.0  \n",
       "\n",
       "[75 rows x 26 columns]"
      ]
     },
     "execution_count": 49,
     "metadata": {},
     "output_type": "execute_result"
    }
   ],
   "source": [
    "tfidf = TfidfVectorizer()\n",
    "formacion_tfidf = tfidf.fit_transform(df['Formación académica']).toarray()\n",
    "formacion_tfidf_df = pd.DataFrame(formacion_tfidf, columns=tfidf.get_feature_names_out())\n",
    "df = pd.concat([df, formacion_tfidf_df], axis=1)\n",
    "df.drop(columns=['Formación académica'], inplace=True)\n",
    "df"
   ]
  }
 ],
 "metadata": {
  "kernelspec": {
   "display_name": "Python 3",
   "language": "python",
   "name": "python3"
  },
  "language_info": {
   "codemirror_mode": {
    "name": "ipython",
    "version": 3
   },
   "file_extension": ".py",
   "mimetype": "text/x-python",
   "name": "python",
   "nbconvert_exporter": "python",
   "pygments_lexer": "ipython3",
   "version": "3.10.13"
  }
 },
 "nbformat": 4,
 "nbformat_minor": 2
}
