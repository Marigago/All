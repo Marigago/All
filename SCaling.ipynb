{
 "cells": [
  {
   "cell_type": "markdown",
   "metadata": {},
   "source": [
    "# Feature scaling\n",
    "\n",
    "Feature scaling is a method used to normalize the range of independent variables or features of data. In data processing, it is also known as data normalization and is generally performed during the data preprocessing step.\n",
    "\n",
    "##  Motivation\n",
    "Since the range of values of raw data varies widely, in some machine learning algorithms, objective functions will not work properly without normalization. For example, many classifiers calculate the distance between two points by the Euclidean distance. If one of the features has a broad range of values, the distance will be governed by this particular feature. Therefore, the range of all features should be normalized so that each feature contributes approximately proportionately to the final distance.\n",
    "\n",
    "Another reason why feature scaling is applied is that gradient descent converges much faster with feature scaling than without it.[1]\n",
    "\n",
    "It's also important to apply feature scaling if regularization is used as part of the loss function (so that coefficients are penalized appropriately).\n",
    "\n",
    "\n"
   ]
  },
  {
   "cell_type": "markdown",
   "metadata": {},
   "source": [
    "## Methods\n",
    "### Rescaling (min-max normalization)\n",
    "Also known as min-max scaling or min-max normalization, rescaling is the simplest method and consists in rescaling the range of features to scale the range in $[0,1]$ or $[-1,1]$. Selecting the target range depends on the nature of the data. The general formula for a min-max of $[0,1]$ is given as:[2]\n",
    "$$\n",
    "x^{\\prime}=\\frac{x-\\min (x)}{\\max (x)-\\min (x)}\n",
    "$$\n",
    "\n",
    "where $x$ is an original value, $x^{\\prime}$ is the normalized value. For example, suppose that we have the students' weight data, and the students' weights span [160 pounds, 200 pounds]. To rescale this data, we first subtract 160 from each student's weight and divide the result by 40 (the difference between the maximum and minimum weights).\n",
    "\n",
    "To rescale a range between an arbitrary set of values $[a, b]$, the formula becomes:\n",
    "$$\n",
    "x^{\\prime}=a+\\frac{(x-\\min (x))(b-a)}{\\max (x)-\\min (x)}\n",
    "$$\n",
    "where $a, b$ are the min-max values.\n",
    "\n",
    "## Mean normalization\n",
    "\n",
    "$$\n",
    "x^{\\prime}=\\frac{x-\\bar{x}}{\\max (x)-\\min (x)}\n",
    "$$\n",
    "where $x$ is an original value, $x^{\\prime}$ is the normalized value, $\\bar{x}=$ average $(x)$ is the mean of that feature vector. There is another form of the means normalization which divides by the standard deviation which is also called standardization.\n",
    "\n",
    "## Standardization (Z-score Normalization) [ edit]\n",
    "See also: Standard score\n",
    "\n",
    "In machine learning, we can handle various types of data, e.g. audio signals and pixel values for image data, and this data can include multiple dimensions. Feature standardization makes the values of each feature in the data have zero-mean (when subtracting the mean in the numerator) and unit-variance. This method is widely used for normalization in many machine learning algorithms (e.g., support vector machines, logistic regression, and artificial neural networks). ${ }^{[3][4]}$ The general method of calculation is to determine the distribution mean and standard deviation for each feature. Next we subtract the mean from each feature. Then we divide the values (mean is already subtracted) of each feature by its standard deviation.\n",
    "$$\n",
    "x^{\\prime}=\\frac{x-\\bar{x}}{\\sigma}\n",
    "$$\n",
    "\n",
    "Where $x$ is the original feature vector, $\\bar{x}=$ average $(x)$ is the mean of that feature vector, and $\\sigma$ is its standard deviation.\n",
    "\n",
    "## Scaling to unit length\n",
    "Another option that is widely used in machine-learning is to scale the components of a feature vector such that the complete vector has length one. This usually means dividing each component by the Euclidean length of the vector:\n",
    "$$\n",
    "x^{\\prime}=\\frac{x}{\\|x\\|}\n",
    "$$\n",
    "\n",
    "In some applications (e.g., histogram features) it can be more practical to use the $\\mathrm{L}_1$ norm (i.e., taxicab geometry) of the feature vector. This is especially important if in the following learning steps the scalar metric is used as a distance measure. ${ }^{[\\text {why?] }}$ Note that this only works for $x \\neq \\mathbf{0}$."
   ]
  },
  {
   "cell_type": "code",
   "execution_count": null,
   "metadata": {},
   "outputs": [],
   "source": []
  },
  {
   "cell_type": "markdown",
   "metadata": {},
   "source": []
  },
  {
   "cell_type": "code",
   "execution_count": null,
   "metadata": {},
   "outputs": [],
   "source": []
  },
  {
   "cell_type": "markdown",
   "metadata": {},
   "source": []
  }
 ],
 "metadata": {
  "language_info": {
   "name": "python"
  }
 },
 "nbformat": 4,
 "nbformat_minor": 2
}
