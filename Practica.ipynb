{
 "cells": [
  {
   "cell_type": "markdown",
   "metadata": {},
   "source": [
    "**Problema poblacional**\n",
    "\n",
    "$$E(X-\\mu)=0$$\n",
    "\n",
    "Ecución de problema poblacional; supone que la esperanza de la desviación en la variable X es igual a cero."
   ]
  },
  {
   "cell_type": "markdown",
   "metadata": {},
   "source": [
    "**Análogo Muestral**\n",
    "\n",
    "$$\n",
    "1/n\\sum_{i=1}^{n} (X_i-\\hat{\\mu})=0\n",
    "$$\n",
    "\n",
    "La sumatoria de una muestra de la población, del promedio de la variable menos la media donde proponemos o esperamos que sea cero, es decir, el método aplicado del problema poblacional sobre un problema muestral. \n"
   ]
  },
  {
   "cell_type": "markdown",
   "metadata": {},
   "source": [
    "**Explicacion del GMM**\n",
    "\n",
    "El GMM se utiliza cuando se sospecha que hay problemas de endogeneidad (la endogeneidad es un término utilizado en estadística y economía para describir una situación en la que existe una correlación entre una variable independiente y el término de error en un modelo) entre las variables explicativas del modelo y cuando el número de momentos es mayor que el número de parámetros a estimar. \n",
    "\n",
    "\"Tener más ecuaciónes que parámetros\", es decir, tengo una distribución de _k_ parámetros, y _q_ condiciones, mayores a los parámetros, así que aaplicamos GMM.\n",
    "\n",
    "Por ejemplo:\n",
    "\n",
    "$$\n",
    "E[(m_j(w,\\theta))]=0\n",
    "$$\n",
    "\n",
    "$$\n",
    "\\bar{m}(\\theta) = 1/n\\sum_{i=1}^{n} (m(w_j, \\theta))=0\n",
    "$$\n",
    "\n",
    "donde\n",
    "$$\n",
    "j = 1, .... q\n",
    "$$\n"
   ]
  },
  {
   "cell_type": "markdown",
   "metadata": {},
   "source": [
    "$$\n",
    "\\hat{\\theta} =argmin/\\theta \\{ \\bar{m}_1^{2} + \\bar{m}_2^{2} + ... + \\bar{m}_q^{2}\\}\n",
    "$$\n",
    "\n",
    "$$\n",
    "\\hat{\\theta} =argmin/\\theta \\{ w_1\\bar{m}_1^{2} + w_2\\bar{m}_2^{2} + ... + w_q\\bar{m}_q^{2}\\}\n",
    "$$\n",
    "\n",
    "$$\n",
    "\\hat{\\theta}^{GMM} =argmin/\\theta \\{\\bar{m}(\\theta)' W\\bar{m}(\\theta)\\}\n",
    "$$\n",
    "\n",
    "- _w_ representan los datos (de la observación _j_), cabe mencionar que se le artibuye el peso de 1 incialmente, o el de la matriz identidad si hablamos de matrices, pero puede tomar cualquier otro valor para adaptar con los pesos de las funciones mientras que W sea una matríz definida positiva\n",
    "\n",
    "- $\\theta$ al prámetro que estamos tratando de estimar\n",
    "\n",
    "- _m_ es un vector de _q_x1 funciones que tienen esperanza cero en población"
   ]
  },
  {
   "cell_type": "markdown",
   "metadata": {},
   "source": [
    "Asumimos que empezamos con una matriz _W = I_, para despues resolver para el\n",
    "\n",
    "_<center>ESTIMADOR EFICIENTE:</center>_\n",
    "\n",
    "$$\n",
    "W = V[m(\\theta)]^{-1}\n",
    "$$\n",
    "\n",
    "Entonces,\n",
    "\n",
    "$$\n",
    "\\hat{\\theta}^{GMM, 1} =argmin/\\theta \\{\\bar{m}(\\theta)'I\\bar{m}(\\theta)\\}\n",
    "$$\n",
    "\n",
    "Usamos ese $\\hat{\\theta}^{GMM, 1}$ para calcular el estimador eficiente y sustituirlo en la ecuacion de\n",
    "\n",
    "$$\n",
    "\\hat{\\theta}^{GMM, 2} =argmin/\\theta \\{\\bar{m}(\\theta)' \\hat{W}\\bar{m}(\\theta)\\}\n",
    "$$"
   ]
  },
  {
   "cell_type": "markdown",
   "metadata": {},
   "source": [
    "**<center>ANALISIS GMM</center>**\n"
   ]
  },
  {
   "cell_type": "code",
   "execution_count": 94,
   "metadata": {},
   "outputs": [
    {
     "data": {
      "text/html": [
       "<div>\n",
       "<style scoped>\n",
       "    .dataframe tbody tr th:only-of-type {\n",
       "        vertical-align: middle;\n",
       "    }\n",
       "\n",
       "    .dataframe tbody tr th {\n",
       "        vertical-align: top;\n",
       "    }\n",
       "\n",
       "    .dataframe thead th {\n",
       "        text-align: right;\n",
       "    }\n",
       "</style>\n",
       "<table border=\"1\" class=\"dataframe\">\n",
       "  <thead>\n",
       "    <tr style=\"text-align: right;\">\n",
       "      <th></th>\n",
       "      <th>Attribute1</th>\n",
       "      <th>Attribute2</th>\n",
       "      <th>Attribute3</th>\n",
       "      <th>Attribute4</th>\n",
       "      <th>Attribute5</th>\n",
       "      <th>Attribute6</th>\n",
       "      <th>Attribute7</th>\n",
       "      <th>Attribute8</th>\n",
       "      <th>Attribute9</th>\n",
       "      <th>Attribute10</th>\n",
       "      <th>Attribute11</th>\n",
       "      <th>Attribute12</th>\n",
       "      <th>Attribute13</th>\n",
       "      <th>Attribute14</th>\n",
       "      <th>Attribute15</th>\n",
       "      <th>Attribute16</th>\n",
       "      <th>Attribute17</th>\n",
       "      <th>Attribute18</th>\n",
       "      <th>Attribute19</th>\n",
       "      <th>Attribute20</th>\n",
       "    </tr>\n",
       "  </thead>\n",
       "  <tbody>\n",
       "    <tr>\n",
       "      <th>0</th>\n",
       "      <td>A11</td>\n",
       "      <td>6</td>\n",
       "      <td>A34</td>\n",
       "      <td>A43</td>\n",
       "      <td>1169</td>\n",
       "      <td>A65</td>\n",
       "      <td>A75</td>\n",
       "      <td>4</td>\n",
       "      <td>A93</td>\n",
       "      <td>A101</td>\n",
       "      <td>4</td>\n",
       "      <td>A121</td>\n",
       "      <td>67</td>\n",
       "      <td>A143</td>\n",
       "      <td>A152</td>\n",
       "      <td>2</td>\n",
       "      <td>A173</td>\n",
       "      <td>1</td>\n",
       "      <td>A192</td>\n",
       "      <td>A201</td>\n",
       "    </tr>\n",
       "    <tr>\n",
       "      <th>1</th>\n",
       "      <td>A12</td>\n",
       "      <td>48</td>\n",
       "      <td>A32</td>\n",
       "      <td>A43</td>\n",
       "      <td>5951</td>\n",
       "      <td>A61</td>\n",
       "      <td>A73</td>\n",
       "      <td>2</td>\n",
       "      <td>A92</td>\n",
       "      <td>A101</td>\n",
       "      <td>2</td>\n",
       "      <td>A121</td>\n",
       "      <td>22</td>\n",
       "      <td>A143</td>\n",
       "      <td>A152</td>\n",
       "      <td>1</td>\n",
       "      <td>A173</td>\n",
       "      <td>1</td>\n",
       "      <td>A191</td>\n",
       "      <td>A201</td>\n",
       "    </tr>\n",
       "    <tr>\n",
       "      <th>2</th>\n",
       "      <td>A14</td>\n",
       "      <td>12</td>\n",
       "      <td>A34</td>\n",
       "      <td>A46</td>\n",
       "      <td>2096</td>\n",
       "      <td>A61</td>\n",
       "      <td>A74</td>\n",
       "      <td>2</td>\n",
       "      <td>A93</td>\n",
       "      <td>A101</td>\n",
       "      <td>3</td>\n",
       "      <td>A121</td>\n",
       "      <td>49</td>\n",
       "      <td>A143</td>\n",
       "      <td>A152</td>\n",
       "      <td>1</td>\n",
       "      <td>A172</td>\n",
       "      <td>2</td>\n",
       "      <td>A191</td>\n",
       "      <td>A201</td>\n",
       "    </tr>\n",
       "    <tr>\n",
       "      <th>3</th>\n",
       "      <td>A11</td>\n",
       "      <td>42</td>\n",
       "      <td>A32</td>\n",
       "      <td>A42</td>\n",
       "      <td>7882</td>\n",
       "      <td>A61</td>\n",
       "      <td>A74</td>\n",
       "      <td>2</td>\n",
       "      <td>A93</td>\n",
       "      <td>A103</td>\n",
       "      <td>4</td>\n",
       "      <td>A122</td>\n",
       "      <td>45</td>\n",
       "      <td>A143</td>\n",
       "      <td>A153</td>\n",
       "      <td>1</td>\n",
       "      <td>A173</td>\n",
       "      <td>2</td>\n",
       "      <td>A191</td>\n",
       "      <td>A201</td>\n",
       "    </tr>\n",
       "    <tr>\n",
       "      <th>4</th>\n",
       "      <td>A11</td>\n",
       "      <td>24</td>\n",
       "      <td>A33</td>\n",
       "      <td>A40</td>\n",
       "      <td>4870</td>\n",
       "      <td>A61</td>\n",
       "      <td>A73</td>\n",
       "      <td>3</td>\n",
       "      <td>A93</td>\n",
       "      <td>A101</td>\n",
       "      <td>4</td>\n",
       "      <td>A124</td>\n",
       "      <td>53</td>\n",
       "      <td>A143</td>\n",
       "      <td>A153</td>\n",
       "      <td>2</td>\n",
       "      <td>A173</td>\n",
       "      <td>2</td>\n",
       "      <td>A191</td>\n",
       "      <td>A201</td>\n",
       "    </tr>\n",
       "    <tr>\n",
       "      <th>...</th>\n",
       "      <td>...</td>\n",
       "      <td>...</td>\n",
       "      <td>...</td>\n",
       "      <td>...</td>\n",
       "      <td>...</td>\n",
       "      <td>...</td>\n",
       "      <td>...</td>\n",
       "      <td>...</td>\n",
       "      <td>...</td>\n",
       "      <td>...</td>\n",
       "      <td>...</td>\n",
       "      <td>...</td>\n",
       "      <td>...</td>\n",
       "      <td>...</td>\n",
       "      <td>...</td>\n",
       "      <td>...</td>\n",
       "      <td>...</td>\n",
       "      <td>...</td>\n",
       "      <td>...</td>\n",
       "      <td>...</td>\n",
       "    </tr>\n",
       "    <tr>\n",
       "      <th>995</th>\n",
       "      <td>A14</td>\n",
       "      <td>12</td>\n",
       "      <td>A32</td>\n",
       "      <td>A42</td>\n",
       "      <td>1736</td>\n",
       "      <td>A61</td>\n",
       "      <td>A74</td>\n",
       "      <td>3</td>\n",
       "      <td>A92</td>\n",
       "      <td>A101</td>\n",
       "      <td>4</td>\n",
       "      <td>A121</td>\n",
       "      <td>31</td>\n",
       "      <td>A143</td>\n",
       "      <td>A152</td>\n",
       "      <td>1</td>\n",
       "      <td>A172</td>\n",
       "      <td>1</td>\n",
       "      <td>A191</td>\n",
       "      <td>A201</td>\n",
       "    </tr>\n",
       "    <tr>\n",
       "      <th>996</th>\n",
       "      <td>A11</td>\n",
       "      <td>30</td>\n",
       "      <td>A32</td>\n",
       "      <td>A41</td>\n",
       "      <td>3857</td>\n",
       "      <td>A61</td>\n",
       "      <td>A73</td>\n",
       "      <td>4</td>\n",
       "      <td>A91</td>\n",
       "      <td>A101</td>\n",
       "      <td>4</td>\n",
       "      <td>A122</td>\n",
       "      <td>40</td>\n",
       "      <td>A143</td>\n",
       "      <td>A152</td>\n",
       "      <td>1</td>\n",
       "      <td>A174</td>\n",
       "      <td>1</td>\n",
       "      <td>A192</td>\n",
       "      <td>A201</td>\n",
       "    </tr>\n",
       "    <tr>\n",
       "      <th>997</th>\n",
       "      <td>A14</td>\n",
       "      <td>12</td>\n",
       "      <td>A32</td>\n",
       "      <td>A43</td>\n",
       "      <td>804</td>\n",
       "      <td>A61</td>\n",
       "      <td>A75</td>\n",
       "      <td>4</td>\n",
       "      <td>A93</td>\n",
       "      <td>A101</td>\n",
       "      <td>4</td>\n",
       "      <td>A123</td>\n",
       "      <td>38</td>\n",
       "      <td>A143</td>\n",
       "      <td>A152</td>\n",
       "      <td>1</td>\n",
       "      <td>A173</td>\n",
       "      <td>1</td>\n",
       "      <td>A191</td>\n",
       "      <td>A201</td>\n",
       "    </tr>\n",
       "    <tr>\n",
       "      <th>998</th>\n",
       "      <td>A11</td>\n",
       "      <td>45</td>\n",
       "      <td>A32</td>\n",
       "      <td>A43</td>\n",
       "      <td>1845</td>\n",
       "      <td>A61</td>\n",
       "      <td>A73</td>\n",
       "      <td>4</td>\n",
       "      <td>A93</td>\n",
       "      <td>A101</td>\n",
       "      <td>4</td>\n",
       "      <td>A124</td>\n",
       "      <td>23</td>\n",
       "      <td>A143</td>\n",
       "      <td>A153</td>\n",
       "      <td>1</td>\n",
       "      <td>A173</td>\n",
       "      <td>1</td>\n",
       "      <td>A192</td>\n",
       "      <td>A201</td>\n",
       "    </tr>\n",
       "    <tr>\n",
       "      <th>999</th>\n",
       "      <td>A12</td>\n",
       "      <td>45</td>\n",
       "      <td>A34</td>\n",
       "      <td>A41</td>\n",
       "      <td>4576</td>\n",
       "      <td>A62</td>\n",
       "      <td>A71</td>\n",
       "      <td>3</td>\n",
       "      <td>A93</td>\n",
       "      <td>A101</td>\n",
       "      <td>4</td>\n",
       "      <td>A123</td>\n",
       "      <td>27</td>\n",
       "      <td>A143</td>\n",
       "      <td>A152</td>\n",
       "      <td>1</td>\n",
       "      <td>A173</td>\n",
       "      <td>1</td>\n",
       "      <td>A191</td>\n",
       "      <td>A201</td>\n",
       "    </tr>\n",
       "  </tbody>\n",
       "</table>\n",
       "<p>1000 rows × 20 columns</p>\n",
       "</div>"
      ],
      "text/plain": [
       "    Attribute1  Attribute2 Attribute3 Attribute4  Attribute5 Attribute6  \\\n",
       "0          A11           6        A34        A43        1169        A65   \n",
       "1          A12          48        A32        A43        5951        A61   \n",
       "2          A14          12        A34        A46        2096        A61   \n",
       "3          A11          42        A32        A42        7882        A61   \n",
       "4          A11          24        A33        A40        4870        A61   \n",
       "..         ...         ...        ...        ...         ...        ...   \n",
       "995        A14          12        A32        A42        1736        A61   \n",
       "996        A11          30        A32        A41        3857        A61   \n",
       "997        A14          12        A32        A43         804        A61   \n",
       "998        A11          45        A32        A43        1845        A61   \n",
       "999        A12          45        A34        A41        4576        A62   \n",
       "\n",
       "    Attribute7  Attribute8 Attribute9 Attribute10  Attribute11 Attribute12  \\\n",
       "0          A75           4        A93        A101            4        A121   \n",
       "1          A73           2        A92        A101            2        A121   \n",
       "2          A74           2        A93        A101            3        A121   \n",
       "3          A74           2        A93        A103            4        A122   \n",
       "4          A73           3        A93        A101            4        A124   \n",
       "..         ...         ...        ...         ...          ...         ...   \n",
       "995        A74           3        A92        A101            4        A121   \n",
       "996        A73           4        A91        A101            4        A122   \n",
       "997        A75           4        A93        A101            4        A123   \n",
       "998        A73           4        A93        A101            4        A124   \n",
       "999        A71           3        A93        A101            4        A123   \n",
       "\n",
       "     Attribute13 Attribute14 Attribute15  Attribute16 Attribute17  \\\n",
       "0             67        A143        A152            2        A173   \n",
       "1             22        A143        A152            1        A173   \n",
       "2             49        A143        A152            1        A172   \n",
       "3             45        A143        A153            1        A173   \n",
       "4             53        A143        A153            2        A173   \n",
       "..           ...         ...         ...          ...         ...   \n",
       "995           31        A143        A152            1        A172   \n",
       "996           40        A143        A152            1        A174   \n",
       "997           38        A143        A152            1        A173   \n",
       "998           23        A143        A153            1        A173   \n",
       "999           27        A143        A152            1        A173   \n",
       "\n",
       "     Attribute18 Attribute19 Attribute20  \n",
       "0              1        A192        A201  \n",
       "1              1        A191        A201  \n",
       "2              2        A191        A201  \n",
       "3              2        A191        A201  \n",
       "4              2        A191        A201  \n",
       "..           ...         ...         ...  \n",
       "995            1        A191        A201  \n",
       "996            1        A192        A201  \n",
       "997            1        A191        A201  \n",
       "998            1        A192        A201  \n",
       "999            1        A191        A201  \n",
       "\n",
       "[1000 rows x 20 columns]"
      ]
     },
     "execution_count": 94,
     "metadata": {},
     "output_type": "execute_result"
    }
   ],
   "source": [
    "from ucimlrepo import fetch_ucirepo \n",
    "  \n",
    "# fetch dataset \n",
    "statlog_german_credit_data = fetch_ucirepo(id=144) \n",
    "  \n",
    "# data (as pandas dataframes) \n",
    "df = statlog_german_credit_data.data.features \n",
    "y = statlog_german_credit_data.data.targets \n",
    "\n",
    "df\n",
    "\n"
   ]
  },
  {
   "cell_type": "markdown",
   "metadata": {},
   "source": [
    "Las variables a analizar son \n",
    "- Attribute5 Cantidad de crédito\n",
    "- Attribute8 Tasa de cuota en porcentaje de ingresos disponibles\n",
    "- Attribute11 Residencia actual desde\n",
    "- Attribute13 Edad\n",
    "- Attribute16 Número de créditos existentes en este banco (clasificado binariamente como bueno o malo)\n",
    "- Attribute18 Número de personas responsables de proporcionar mantenimiento (clasificado binariamente como bueno o malo)"
   ]
  },
  {
   "cell_type": "code",
   "execution_count": 95,
   "metadata": {},
   "outputs": [
    {
     "data": {
      "text/html": [
       "<div>\n",
       "<style scoped>\n",
       "    .dataframe tbody tr th:only-of-type {\n",
       "        vertical-align: middle;\n",
       "    }\n",
       "\n",
       "    .dataframe tbody tr th {\n",
       "        vertical-align: top;\n",
       "    }\n",
       "\n",
       "    .dataframe thead th {\n",
       "        text-align: right;\n",
       "    }\n",
       "</style>\n",
       "<table border=\"1\" class=\"dataframe\">\n",
       "  <thead>\n",
       "    <tr style=\"text-align: right;\">\n",
       "      <th></th>\n",
       "      <th>Attribute5</th>\n",
       "      <th>Attribute8</th>\n",
       "      <th>Attribute11</th>\n",
       "      <th>Attribute13</th>\n",
       "      <th>Attribute16</th>\n",
       "      <th>Attribute18</th>\n",
       "    </tr>\n",
       "  </thead>\n",
       "  <tbody>\n",
       "    <tr>\n",
       "      <th>0</th>\n",
       "      <td>1169</td>\n",
       "      <td>4</td>\n",
       "      <td>4</td>\n",
       "      <td>67</td>\n",
       "      <td>2</td>\n",
       "      <td>1</td>\n",
       "    </tr>\n",
       "    <tr>\n",
       "      <th>1</th>\n",
       "      <td>5951</td>\n",
       "      <td>2</td>\n",
       "      <td>2</td>\n",
       "      <td>22</td>\n",
       "      <td>1</td>\n",
       "      <td>1</td>\n",
       "    </tr>\n",
       "    <tr>\n",
       "      <th>2</th>\n",
       "      <td>2096</td>\n",
       "      <td>2</td>\n",
       "      <td>3</td>\n",
       "      <td>49</td>\n",
       "      <td>1</td>\n",
       "      <td>2</td>\n",
       "    </tr>\n",
       "    <tr>\n",
       "      <th>3</th>\n",
       "      <td>7882</td>\n",
       "      <td>2</td>\n",
       "      <td>4</td>\n",
       "      <td>45</td>\n",
       "      <td>1</td>\n",
       "      <td>2</td>\n",
       "    </tr>\n",
       "    <tr>\n",
       "      <th>4</th>\n",
       "      <td>4870</td>\n",
       "      <td>3</td>\n",
       "      <td>4</td>\n",
       "      <td>53</td>\n",
       "      <td>2</td>\n",
       "      <td>2</td>\n",
       "    </tr>\n",
       "    <tr>\n",
       "      <th>...</th>\n",
       "      <td>...</td>\n",
       "      <td>...</td>\n",
       "      <td>...</td>\n",
       "      <td>...</td>\n",
       "      <td>...</td>\n",
       "      <td>...</td>\n",
       "    </tr>\n",
       "    <tr>\n",
       "      <th>995</th>\n",
       "      <td>1736</td>\n",
       "      <td>3</td>\n",
       "      <td>4</td>\n",
       "      <td>31</td>\n",
       "      <td>1</td>\n",
       "      <td>1</td>\n",
       "    </tr>\n",
       "    <tr>\n",
       "      <th>996</th>\n",
       "      <td>3857</td>\n",
       "      <td>4</td>\n",
       "      <td>4</td>\n",
       "      <td>40</td>\n",
       "      <td>1</td>\n",
       "      <td>1</td>\n",
       "    </tr>\n",
       "    <tr>\n",
       "      <th>997</th>\n",
       "      <td>804</td>\n",
       "      <td>4</td>\n",
       "      <td>4</td>\n",
       "      <td>38</td>\n",
       "      <td>1</td>\n",
       "      <td>1</td>\n",
       "    </tr>\n",
       "    <tr>\n",
       "      <th>998</th>\n",
       "      <td>1845</td>\n",
       "      <td>4</td>\n",
       "      <td>4</td>\n",
       "      <td>23</td>\n",
       "      <td>1</td>\n",
       "      <td>1</td>\n",
       "    </tr>\n",
       "    <tr>\n",
       "      <th>999</th>\n",
       "      <td>4576</td>\n",
       "      <td>3</td>\n",
       "      <td>4</td>\n",
       "      <td>27</td>\n",
       "      <td>1</td>\n",
       "      <td>1</td>\n",
       "    </tr>\n",
       "  </tbody>\n",
       "</table>\n",
       "<p>1000 rows × 6 columns</p>\n",
       "</div>"
      ],
      "text/plain": [
       "     Attribute5  Attribute8  Attribute11  Attribute13  Attribute16  \\\n",
       "0          1169           4            4           67            2   \n",
       "1          5951           2            2           22            1   \n",
       "2          2096           2            3           49            1   \n",
       "3          7882           2            4           45            1   \n",
       "4          4870           3            4           53            2   \n",
       "..          ...         ...          ...          ...          ...   \n",
       "995        1736           3            4           31            1   \n",
       "996        3857           4            4           40            1   \n",
       "997         804           4            4           38            1   \n",
       "998        1845           4            4           23            1   \n",
       "999        4576           3            4           27            1   \n",
       "\n",
       "     Attribute18  \n",
       "0              1  \n",
       "1              1  \n",
       "2              2  \n",
       "3              2  \n",
       "4              2  \n",
       "..           ...  \n",
       "995            1  \n",
       "996            1  \n",
       "997            1  \n",
       "998            1  \n",
       "999            1  \n",
       "\n",
       "[1000 rows x 6 columns]"
      ]
     },
     "execution_count": 95,
     "metadata": {},
     "output_type": "execute_result"
    }
   ],
   "source": [
    "df=df.copy()\n",
    "columnas_seleccionadas = ['Attribute5', 'Attribute8', 'Attribute11', 'Attribute13', 'Attribute16', 'Attribute18']\n",
    "df = df[columnas_seleccionadas]\n",
    "df\n",
    " "
   ]
  },
  {
   "cell_type": "code",
   "execution_count": 96,
   "metadata": {},
   "outputs": [
    {
     "data": {
      "text/plain": [
       "Attribute5     0\n",
       "Attribute8     0\n",
       "Attribute11    0\n",
       "Attribute13    0\n",
       "Attribute16    0\n",
       "Attribute18    0\n",
       "dtype: int64"
      ]
     },
     "execution_count": 96,
     "metadata": {},
     "output_type": "execute_result"
    }
   ],
   "source": [
    "df.isna().sum()"
   ]
  },
  {
   "cell_type": "code",
   "execution_count": 97,
   "metadata": {},
   "outputs": [
    {
     "data": {
      "image/png": "[encoded data removed]",
      "text/plain": [
       "<Figure size 800x600 with 1 Axes>"
      ]
     },
     "metadata": {},
     "output_type": "display_data"
    },
    {
     "data": {
      "image/png": "[encoded data removed]",
      "text/plain": [
       "<Figure size 800x600 with 1 Axes>"
      ]
     },
     "metadata": {},
     "output_type": "display_data"
    }
   ],
   "source": [
    "import matplotlib.pyplot as plt\n",
    "import seaborn as sns\n",
    "columnas_seleccionadas = ['Attribute5',  'Attribute13']\n",
    "for col in df[columnas_seleccionadas]:\n",
    "    plt.figure(figsize=(8,6))\n",
    "    sns.boxplot(x=df[col])\n",
    "    plt.title(f'Boxplot de {col}')\n",
    "    plt.show()\n",
    "\n"
   ]
  },
  {
   "cell_type": "markdown",
   "metadata": {},
   "source": [
    "**ATRIBUTO 13**"
   ]
  },
  {
   "cell_type": "code",
   "execution_count": 98,
   "metadata": {},
   "outputs": [
    {
     "name": "stdout",
     "output_type": "stream",
     "text": [
      "Resago 13:1.0207392686768317\n"
     ]
    },
    {
     "data": {
      "image/png": "[encoded data removed]",
      "text/plain": [
       "<Figure size 640x480 with 1 Axes>"
      ]
     },
     "metadata": {},
     "output_type": "display_data"
    }
   ],
   "source": [
    "hist2=df[\"Attribute13\"].hist(bins=50)\n",
    "print(\"Resago 13:\"+ str(df[\"Attribute13\"].skew()))"
   ]
  },
  {
   "cell_type": "markdown",
   "metadata": {},
   "source": [
    "**ATRIBUTO 11**"
   ]
  },
  {
   "cell_type": "code",
   "execution_count": 99,
   "metadata": {},
   "outputs": [
    {
     "name": "stdout",
     "output_type": "stream",
     "text": [
      "Resago:-0.2725698140337228\n"
     ]
    },
    {
     "data": {
      "image/png": "[encoded data removed]",
      "text/plain": [
       "<Figure size 640x480 with 1 Axes>"
      ]
     },
     "metadata": {},
     "output_type": "display_data"
    }
   ],
   "source": [
    "hist2=df[\"Attribute11\"].hist(bins=50)\n",
    "print(\"Resago:\"+ str(df[\"Attribute11\"].skew()))"
   ]
  },
  {
   "cell_type": "markdown",
   "metadata": {},
   "source": [
    "**Atributo 5**"
   ]
  },
  {
   "cell_type": "code",
   "execution_count": 101,
   "metadata": {},
   "outputs": [
    {
     "name": "stdout",
     "output_type": "stream",
     "text": [
      "Resago:1.9496276798326209\n"
     ]
    },
    {
     "data": {
      "image/png": "[encoded data removed]",
      "text/plain": [
       "<Figure size 640x480 with 1 Axes>"
      ]
     },
     "metadata": {},
     "output_type": "display_data"
    }
   ],
   "source": [
    "hist2=df[\"Attribute5\"].hist(bins=50)\n",
    "print(\"Resago:\"+ str(df[\"Attribute5\"].skew()))"
   ]
  },
  {
   "cell_type": "markdown",
   "metadata": {},
   "source": [
    "**ATRIBUTO 8**"
   ]
  },
  {
   "cell_type": "code",
   "execution_count": 102,
   "metadata": {},
   "outputs": [
    {
     "name": "stdout",
     "output_type": "stream",
     "text": [
      "Resago 8:-0.5313481143125486\n"
     ]
    },
    {
     "data": {
      "image/png": "[encoded data removed]",
      "text/plain": [
       "<Figure size 640x480 with 1 Axes>"
      ]
     },
     "metadata": {},
     "output_type": "display_data"
    }
   ],
   "source": [
    "hist2=df[\"Attribute8\"].hist(bins=50)\n",
    "print(\"Resago 8:\"+ str(df[\"Attribute8\"].skew()))"
   ]
  },
  {
   "cell_type": "markdown",
   "metadata": {},
   "source": [
    "Estamos interesados en un modelo que relaciona el riesgo de crédito con varias variables presentadas."
   ]
  },
  {
   "cell_type": "code",
   "execution_count": 103,
   "metadata": {},
   "outputs": [
    {
     "name": "stdout",
     "output_type": "stream",
     "text": [
      "Index(['Attribute5', 'Attribute8', 'Attribute11', 'Attribute13', 'Attribute16',\n",
      "       'Attribute18'],\n",
      "      dtype='object')\n"
     ]
    }
   ],
   "source": [
    "print(df.columns)"
   ]
  },
  {
   "cell_type": "markdown",
   "metadata": {},
   "source": [
    "En este caso, se esta definiendo una función que calcula la suma de los residuos al cuadrado. Los residuos son la diferencia entre los valores observados y los valores predichos. Los valores predichos se calculan como el producto punto de X y params, donde params son los parámetros del modelo\n"
   ]
  },
  {
   "cell_type": "code",
   "execution_count": 123,
   "metadata": {},
   "outputs": [
    {
     "name": "stdout",
     "output_type": "stream",
     "text": [
      "Parámetros optimizados: [1. 1. 1. 1. 1.]\n"
     ]
    },
    {
     "name": "stderr",
     "output_type": "stream",
     "text": [
      "C:\\Users\\maria\\AppData\\Local\\Packages\\PythonSoftwareFoundation.Python.3.12_qbz5n2kfra8p0\\LocalCache\\local-packages\\Python312\\site-packages\\pandas\\core\\arraylike.py:399: RuntimeWarning: overflow encountered in exp\n",
      "  result = getattr(ufunc, method)(*inputs, **kwargs)\n",
      "C:\\Users\\maria\\AppData\\Local\\Packages\\PythonSoftwareFoundation.Python.3.12_qbz5n2kfra8p0\\LocalCache\\local-packages\\Python312\\site-packages\\scipy\\optimize\\_numdiff.py:590: RuntimeWarning: invalid value encountered in subtract\n",
      "  df = fun(x) - f0\n"
     ]
    }
   ],
   "source": [
    "import numpy as np\n",
    "import pandas as pd\n",
    "from scipy.optimize import minimize\n",
    "\n",
    "\n",
    "from ucimlrepo import fetch_ucirepo \n",
    "  \n",
    "# fetch dataset \n",
    "statlog_german_credit_data = fetch_ucirepo(id=144) \n",
    "  \n",
    "# data (as pandas dataframes) \n",
    "df = statlog_german_credit_data.data.features \n",
    "\n",
    "# Selecciona las columnas relevantes\n",
    "variables = ['Attribute8', 'Attribute11', 'Attribute13', 'Attribute16', 'Attribute18']\n",
    "y = np.exp(df['Attribute5'])  # Apply inverse log transformation\n",
    "X = df[variables]\n",
    "\n",
    "# Define the objective function for GMM\n",
    "def objective(params):\n",
    "    # Predicciones\n",
    "    y_pred = np.dot(X, params)\n",
    "    residuals = y - y_pred\n",
    "    return np.sum(residuals**2)\n",
    "\n",
    "\n",
    "params_init = np.ones(len(variables))\n",
    "\n",
    "# minimize utilizará para encontrar los valores de los parámetros que minimizan tu función objetivo.\n",
    "#‘BFGS’,que es un método de optimización que utiliza información de la primera y segunda derivada de la función objetivo para encontrar el mínimo.\n",
    "result = minimize(objective, params_init, method='BFGS')\n",
    "\n",
    "print('Parámetros optimizados:', result.x)\n",
    "\n"
   ]
  },
  {
   "cell_type": "markdown",
   "metadata": {},
   "source": [
    "<math xmlns=\"http://www.w3.org/1998/Math/MathML\" display=\"block\"><semantics><mrow><mtext>Attribute5</mtext><mo>=</mo><mtext>Attribute8</mtext><mo>+</mo><mtext>Attribute11</mtext><mo>+</mo><mtext>Attribute13</mtext><mo>+</mo><mtext>Attribute16</mtext><mo>+</mo><mtext>Attribute18</mtext></mrow><annotation encoding=\"application/x-tex\">\\text{Attribute5} = \\text{Attribute8} + \\text{Attribute11} + \\text{Attribute13} + \\text{Attribute16} + \\text{Attribute18}\n",
    "</annotation></semantics></math>"
   ]
  }
 ],
 "metadata": {
  "kernelspec": {
   "display_name": "Python 3",
   "language": "python",
   "name": "python3"
  },
  "language_info": {
   "codemirror_mode": {
    "name": "ipython",
    "version": 3
   },
   "file_extension": ".py",
   "mimetype": "text/x-python",
   "name": "python",
   "nbconvert_exporter": "python",
   "pygments_lexer": "ipython3",
   "version": "3.12.3"
  }
 },
 "nbformat": 4,
 "nbformat_minor": 2
}
