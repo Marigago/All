{
 "cells": [
  {
   "cell_type": "markdown",
   "id": "99f1f5b5",
   "metadata": {
    "id": "99f1f5b5"
   },
   "source": [
    "# Tarea - escalamiento y transformación\n",
    "En el archivo `Escalamiento.xlsx` se encuentran dos variables, las cuales se pretenden analizar para una posterior predicción.\n",
    "\n",
    "Se entrenará una red neuronal con la variable $x_1$ usando una función de activación sigmoidal unipolar, y la variable $x_2$ se usará para entrenar una red neuronal con una función de activación de tangente hiperbólica.\n",
    "\n",
    "1. Transforme cada variable usando una función de potencia, con el fin de maximizar la probabilidad de obtener una distribución Normal.\n",
    "\n",
    "2. Use el escalamiento adecuado para cada variable con la finalidad de que la red neuronal opere en el rango de cada función de activación."
   ]
  },
  {
   "cell_type": "code",
   "execution_count": 1,
   "id": "45555bba",
   "metadata": {
    "id": "45555bba"
   },
   "outputs": [
    {
     "name": "stderr",
     "output_type": "stream",
     "text": [
      "C:\\Users\\maria\\AppData\\Local\\Temp\\ipykernel_19776\\3799135172.py:1: DeprecationWarning: \n",
      "Pyarrow will become a required dependency of pandas in the next major release of pandas (pandas 3.0),\n",
      "(to allow more performant data types, such as the Arrow string type, and better interoperability with other libraries)\n",
      "but was not found to be installed on your system.\n",
      "If this would cause problems for you,\n",
      "please provide us feedback at https://github.com/pandas-dev/pandas/issues/54466\n",
      "        \n",
      "  import pandas as pd\n"
     ]
    }
   ],
   "source": [
    "import pandas as pd\n",
    "from scipy import stats\n",
    "from sklearn.preprocessing import MinMaxScaler"
   ]
  },
  {
   "cell_type": "code",
   "execution_count": 3,
   "id": "6af78687",
   "metadata": {},
   "outputs": [
    {
     "data": {
      "text/html": [
       "<div>\n",
       "<style scoped>\n",
       "    .dataframe tbody tr th:only-of-type {\n",
       "        vertical-align: middle;\n",
       "    }\n",
       "\n",
       "    .dataframe tbody tr th {\n",
       "        vertical-align: top;\n",
       "    }\n",
       "\n",
       "    .dataframe thead th {\n",
       "        text-align: right;\n",
       "    }\n",
       "</style>\n",
       "<table border=\"1\" class=\"dataframe\">\n",
       "  <thead>\n",
       "    <tr style=\"text-align: right;\">\n",
       "      <th></th>\n",
       "      <th>x1</th>\n",
       "      <th>x2</th>\n",
       "    </tr>\n",
       "  </thead>\n",
       "  <tbody>\n",
       "    <tr>\n",
       "      <th>0</th>\n",
       "      <td>6050000</td>\n",
       "      <td>5390000.0</td>\n",
       "    </tr>\n",
       "    <tr>\n",
       "      <th>1</th>\n",
       "      <td>4720000</td>\n",
       "      <td>700000.0</td>\n",
       "    </tr>\n",
       "    <tr>\n",
       "      <th>2</th>\n",
       "      <td>4460000</td>\n",
       "      <td>10140000.0</td>\n",
       "    </tr>\n",
       "    <tr>\n",
       "      <th>3</th>\n",
       "      <td>34740000</td>\n",
       "      <td>6600000.0</td>\n",
       "    </tr>\n",
       "    <tr>\n",
       "      <th>4</th>\n",
       "      <td>1910000</td>\n",
       "      <td>3390000.0</td>\n",
       "    </tr>\n",
       "    <tr>\n",
       "      <th>...</th>\n",
       "      <td>...</td>\n",
       "      <td>...</td>\n",
       "    </tr>\n",
       "    <tr>\n",
       "      <th>3282</th>\n",
       "      <td>13150000</td>\n",
       "      <td>7810000.0</td>\n",
       "    </tr>\n",
       "    <tr>\n",
       "      <th>3283</th>\n",
       "      <td>8500000</td>\n",
       "      <td>14790000.0</td>\n",
       "    </tr>\n",
       "    <tr>\n",
       "      <th>3284</th>\n",
       "      <td>11030000</td>\n",
       "      <td>8400000.0</td>\n",
       "    </tr>\n",
       "    <tr>\n",
       "      <th>3285</th>\n",
       "      <td>21330000</td>\n",
       "      <td>2010000.0</td>\n",
       "    </tr>\n",
       "    <tr>\n",
       "      <th>3286</th>\n",
       "      <td>4130000</td>\n",
       "      <td>15240000.0</td>\n",
       "    </tr>\n",
       "  </tbody>\n",
       "</table>\n",
       "<p>3287 rows × 2 columns</p>\n",
       "</div>"
      ],
      "text/plain": [
       "            x1          x2\n",
       "0      6050000   5390000.0\n",
       "1      4720000    700000.0\n",
       "2      4460000  10140000.0\n",
       "3     34740000   6600000.0\n",
       "4      1910000   3390000.0\n",
       "...        ...         ...\n",
       "3282  13150000   7810000.0\n",
       "3283   8500000  14790000.0\n",
       "3284  11030000   8400000.0\n",
       "3285  21330000   2010000.0\n",
       "3286   4130000  15240000.0\n",
       "\n",
       "[3287 rows x 2 columns]"
      ]
     },
     "execution_count": 3,
     "metadata": {},
     "output_type": "execute_result"
    }
   ],
   "source": [
    "ruta = 'C:/Users/maria/Desktop/Segundo_periodo/ING_CARACT/'\n",
    "df=pd.read_csv(ruta+'Escalamiento.csv')\n",
    "df"
   ]
  },
  {
   "cell_type": "code",
   "execution_count": 4,
   "id": "1ea36d91",
   "metadata": {},
   "outputs": [
    {
     "name": "stdout",
     "output_type": "stream",
     "text": [
      "Estadístico de Shapiro-Wilk para x1_transformed: 0.9916851759496491\n",
      "Valor p para x1_transformed: 6.734690539851394e-13\n",
      "Estadístico de Shapiro-Wilk para x2_transformed: 0.9825922822781912\n",
      "Valor p para x2_transformed: 1.1082791677423585e-19\n"
     ]
    }
   ],
   "source": [
    "x1_transformed, lambda_x1 = stats.boxcox(df['x1'])\n",
    "x2_transformed, lambda_x2 = stats.boxcox(df['x2'])\n",
    "\n",
    "df['x1_transformed'] = x1_transformed\n",
    "df['x2_transformed'] = x2_transformed\n",
    "\n",
    "normality_test_x1 = stats.shapiro(x1_transformed)\n",
    "normality_test_x2 = stats.shapiro(x2_transformed)\n",
    "\n",
    "print(\"Estadístico de Shapiro-Wilk para x1_transformed:\", normality_test_x1.statistic)\n",
    "print(\"Valor p para x1_transformed:\", normality_test_x1.pvalue)\n",
    "\n",
    "print(\"Estadístico de Shapiro-Wilk para x2_transformed:\", normality_test_x2.statistic)\n",
    "print(\"Valor p para x2_transformed:\", normality_test_x2.pvalue)"
   ]
  },
  {
   "cell_type": "code",
   "execution_count": 5,
   "id": "f4a71bc5",
   "metadata": {},
   "outputs": [
    {
     "data": {
      "text/html": [
       "<div>\n",
       "<style scoped>\n",
       "    .dataframe tbody tr th:only-of-type {\n",
       "        vertical-align: middle;\n",
       "    }\n",
       "\n",
       "    .dataframe tbody tr th {\n",
       "        vertical-align: top;\n",
       "    }\n",
       "\n",
       "    .dataframe thead th {\n",
       "        text-align: right;\n",
       "    }\n",
       "</style>\n",
       "<table border=\"1\" class=\"dataframe\">\n",
       "  <thead>\n",
       "    <tr style=\"text-align: right;\">\n",
       "      <th></th>\n",
       "      <th>x1</th>\n",
       "      <th>x2</th>\n",
       "      <th>x1_transformed</th>\n",
       "      <th>x2_transformed</th>\n",
       "    </tr>\n",
       "  </thead>\n",
       "  <tbody>\n",
       "    <tr>\n",
       "      <th>0</th>\n",
       "      <td>6050000</td>\n",
       "      <td>5390000.0</td>\n",
       "      <td>33.696026</td>\n",
       "      <td>67.199629</td>\n",
       "    </tr>\n",
       "    <tr>\n",
       "      <th>1</th>\n",
       "      <td>4720000</td>\n",
       "      <td>700000.0</td>\n",
       "      <td>32.718445</td>\n",
       "      <td>46.894491</td>\n",
       "    </tr>\n",
       "    <tr>\n",
       "      <th>2</th>\n",
       "      <td>4460000</td>\n",
       "      <td>10140000.0</td>\n",
       "      <td>32.498317</td>\n",
       "      <td>74.937285</td>\n",
       "    </tr>\n",
       "    <tr>\n",
       "      <th>3</th>\n",
       "      <td>34740000</td>\n",
       "      <td>6600000.0</td>\n",
       "      <td>41.221571</td>\n",
       "      <td>69.595589</td>\n",
       "    </tr>\n",
       "    <tr>\n",
       "      <th>4</th>\n",
       "      <td>1910000</td>\n",
       "      <td>3390000.0</td>\n",
       "      <td>29.332126</td>\n",
       "      <td>61.994606</td>\n",
       "    </tr>\n",
       "    <tr>\n",
       "      <th>...</th>\n",
       "      <td>...</td>\n",
       "      <td>...</td>\n",
       "      <td>...</td>\n",
       "      <td>...</td>\n",
       "    </tr>\n",
       "    <tr>\n",
       "      <th>3282</th>\n",
       "      <td>13150000</td>\n",
       "      <td>7810000.0</td>\n",
       "      <td>36.895595</td>\n",
       "      <td>71.646397</td>\n",
       "    </tr>\n",
       "    <tr>\n",
       "      <th>3283</th>\n",
       "      <td>8500000</td>\n",
       "      <td>14790000.0</td>\n",
       "      <td>35.070267</td>\n",
       "      <td>79.942249</td>\n",
       "    </tr>\n",
       "    <tr>\n",
       "      <th>3284</th>\n",
       "      <td>11030000</td>\n",
       "      <td>8400000.0</td>\n",
       "      <td>36.151703</td>\n",
       "      <td>72.550719</td>\n",
       "    </tr>\n",
       "    <tr>\n",
       "      <th>3285</th>\n",
       "      <td>21330000</td>\n",
       "      <td>2010000.0</td>\n",
       "      <td>39.003022</td>\n",
       "      <td>56.568032</td>\n",
       "    </tr>\n",
       "    <tr>\n",
       "      <th>3286</th>\n",
       "      <td>4130000</td>\n",
       "      <td>15240000.0</td>\n",
       "      <td>32.201426</td>\n",
       "      <td>80.352635</td>\n",
       "    </tr>\n",
       "  </tbody>\n",
       "</table>\n",
       "<p>3287 rows × 4 columns</p>\n",
       "</div>"
      ],
      "text/plain": [
       "            x1          x2  x1_transformed  x2_transformed\n",
       "0      6050000   5390000.0       33.696026       67.199629\n",
       "1      4720000    700000.0       32.718445       46.894491\n",
       "2      4460000  10140000.0       32.498317       74.937285\n",
       "3     34740000   6600000.0       41.221571       69.595589\n",
       "4      1910000   3390000.0       29.332126       61.994606\n",
       "...        ...         ...             ...             ...\n",
       "3282  13150000   7810000.0       36.895595       71.646397\n",
       "3283   8500000  14790000.0       35.070267       79.942249\n",
       "3284  11030000   8400000.0       36.151703       72.550719\n",
       "3285  21330000   2010000.0       39.003022       56.568032\n",
       "3286   4130000  15240000.0       32.201426       80.352635\n",
       "\n",
       "[3287 rows x 4 columns]"
      ]
     },
     "execution_count": 5,
     "metadata": {},
     "output_type": "execute_result"
    }
   ],
   "source": [
    "df"
   ]
  },
  {
   "cell_type": "code",
   "execution_count": 6,
   "id": "9d7c8205",
   "metadata": {},
   "outputs": [],
   "source": [
    "scaler_x1 = MinMaxScaler()\n",
    "x1_scaled = scaler_x1.fit_transform(x1_transformed.reshape(-1, 1))"
   ]
  },
  {
   "cell_type": "code",
   "execution_count": 7,
   "id": "07fe331f",
   "metadata": {},
   "outputs": [],
   "source": [
    "scaler_x2 = MinMaxScaler(feature_range=(-1, 1))\n",
    "x2_scaled = scaler_x2.fit_transform(x2_transformed.reshape(-1, 1))"
   ]
  },
  {
   "cell_type": "code",
   "execution_count": 8,
   "id": "37004a7c",
   "metadata": {},
   "outputs": [
    {
     "data": {
      "image/png": "[encoded data removed]",
      "text/plain": [
       "<Figure size 640x480 with 4 Axes>"
      ]
     },
     "metadata": {},
     "output_type": "display_data"
    }
   ],
   "source": [
    "H=df.hist(bins=50)\n"
   ]
  }
 ],
 "metadata": {
  "colab": {
   "provenance": []
  },
  "kernelspec": {
   "display_name": "Python 3 (ipykernel)",
   "language": "python",
   "name": "python3"
  },
  "language_info": {
   "codemirror_mode": {
    "name": "ipython",
    "version": 3
   },
   "file_extension": ".py",
   "mimetype": "text/x-python",
   "name": "python",
   "nbconvert_exporter": "python",
   "pygments_lexer": "ipython3",
   "version": "3.12.undefined"
  }
 },
 "nbformat": 4,
 "nbformat_minor": 5
}
