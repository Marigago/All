{
 "cells": [
  {
   "cell_type": "code",
   "execution_count": 9,
   "metadata": {},
   "outputs": [],
   "source": [
    "import pandas as pd \n",
    "import matplotlib.pyplot as plt\n"
   ]
  },
  {
   "cell_type": "code",
   "execution_count": 3,
   "metadata": {},
   "outputs": [],
   "source": [
    "path = \"tratamiento_de_valores_faltantes-1.csv\"\n",
    "df = pd.read_csv(path)"
   ]
  },
  {
   "cell_type": "code",
   "execution_count": 101,
   "metadata": {},
   "outputs": [
    {
     "data": {
      "text/html": [
       "<div>\n",
       "<style scoped>\n",
       "    .dataframe tbody tr th:only-of-type {\n",
       "        vertical-align: middle;\n",
       "    }\n",
       "\n",
       "    .dataframe tbody tr th {\n",
       "        vertical-align: top;\n",
       "    }\n",
       "\n",
       "    .dataframe thead th {\n",
       "        text-align: right;\n",
       "    }\n",
       "</style>\n",
       "<table border=\"1\" class=\"dataframe\">\n",
       "  <thead>\n",
       "    <tr style=\"text-align: right;\">\n",
       "      <th></th>\n",
       "      <th>x1</th>\n",
       "      <th>x2</th>\n",
       "      <th>x3</th>\n",
       "      <th>x4</th>\n",
       "    </tr>\n",
       "  </thead>\n",
       "  <tbody>\n",
       "    <tr>\n",
       "      <th>0</th>\n",
       "      <td>1.307150</td>\n",
       "      <td>Comida rápida</td>\n",
       "      <td>5.249548</td>\n",
       "      <td>2.790293</td>\n",
       "    </tr>\n",
       "    <tr>\n",
       "      <th>1</th>\n",
       "      <td>18.422083</td>\n",
       "      <td>Mexicano</td>\n",
       "      <td>5.278007</td>\n",
       "      <td>3.330853</td>\n",
       "    </tr>\n",
       "    <tr>\n",
       "      <th>2</th>\n",
       "      <td>7.729605</td>\n",
       "      <td>Italiano</td>\n",
       "      <td>7.403145</td>\n",
       "      <td>2.895753</td>\n",
       "    </tr>\n",
       "    <tr>\n",
       "      <th>3</th>\n",
       "      <td>10.599776</td>\n",
       "      <td>Comida rápida</td>\n",
       "      <td>7.209577</td>\n",
       "      <td>3.393178</td>\n",
       "    </tr>\n",
       "    <tr>\n",
       "      <th>4</th>\n",
       "      <td>5.612505</td>\n",
       "      <td>Chino</td>\n",
       "      <td>5.896599</td>\n",
       "      <td>2.901199</td>\n",
       "    </tr>\n",
       "  </tbody>\n",
       "</table>\n",
       "</div>"
      ],
      "text/plain": [
       "          x1             x2        x3        x4\n",
       "0   1.307150  Comida rápida  5.249548  2.790293\n",
       "1  18.422083       Mexicano  5.278007  3.330853\n",
       "2   7.729605       Italiano  7.403145  2.895753\n",
       "3  10.599776  Comida rápida  7.209577  3.393178\n",
       "4   5.612505          Chino  5.896599  2.901199"
      ]
     },
     "execution_count": 101,
     "metadata": {},
     "output_type": "execute_result"
    }
   ],
   "source": [
    "df.head()"
   ]
  },
  {
   "cell_type": "code",
   "execution_count": 102,
   "metadata": {},
   "outputs": [
    {
     "data": {
      "text/html": [
       "<div>\n",
       "<style scoped>\n",
       "    .dataframe tbody tr th:only-of-type {\n",
       "        vertical-align: middle;\n",
       "    }\n",
       "\n",
       "    .dataframe tbody tr th {\n",
       "        vertical-align: top;\n",
       "    }\n",
       "\n",
       "    .dataframe thead th {\n",
       "        text-align: right;\n",
       "    }\n",
       "</style>\n",
       "<table border=\"1\" class=\"dataframe\">\n",
       "  <thead>\n",
       "    <tr style=\"text-align: right;\">\n",
       "      <th></th>\n",
       "      <th>x1</th>\n",
       "      <th>x2</th>\n",
       "      <th>x3</th>\n",
       "      <th>x4</th>\n",
       "    </tr>\n",
       "  </thead>\n",
       "  <tbody>\n",
       "    <tr>\n",
       "      <th>9</th>\n",
       "      <td>19.891735</td>\n",
       "      <td>Mexicano</td>\n",
       "      <td>5.933169</td>\n",
       "      <td>NaN</td>\n",
       "    </tr>\n",
       "    <tr>\n",
       "      <th>17</th>\n",
       "      <td>4.286580</td>\n",
       "      <td>Colombiano</td>\n",
       "      <td>6.624473</td>\n",
       "      <td>NaN</td>\n",
       "    </tr>\n",
       "    <tr>\n",
       "      <th>18</th>\n",
       "      <td>6.578716</td>\n",
       "      <td>NaN</td>\n",
       "      <td>4.276853</td>\n",
       "      <td>3.138885</td>\n",
       "    </tr>\n",
       "    <tr>\n",
       "      <th>19</th>\n",
       "      <td>19.743920</td>\n",
       "      <td>Mexicano</td>\n",
       "      <td>7.270445</td>\n",
       "      <td>NaN</td>\n",
       "    </tr>\n",
       "    <tr>\n",
       "      <th>22</th>\n",
       "      <td>NaN</td>\n",
       "      <td>Colombiano</td>\n",
       "      <td>4.244171</td>\n",
       "      <td>3.059077</td>\n",
       "    </tr>\n",
       "    <tr>\n",
       "      <th>...</th>\n",
       "      <td>...</td>\n",
       "      <td>...</td>\n",
       "      <td>...</td>\n",
       "      <td>...</td>\n",
       "    </tr>\n",
       "    <tr>\n",
       "      <th>458</th>\n",
       "      <td>14.562191</td>\n",
       "      <td>Tailandés</td>\n",
       "      <td>4.433628</td>\n",
       "      <td>NaN</td>\n",
       "    </tr>\n",
       "    <tr>\n",
       "      <th>479</th>\n",
       "      <td>16.030986</td>\n",
       "      <td>NaN</td>\n",
       "      <td>7.967528</td>\n",
       "      <td>2.744920</td>\n",
       "    </tr>\n",
       "    <tr>\n",
       "      <th>487</th>\n",
       "      <td>13.976887</td>\n",
       "      <td>NaN</td>\n",
       "      <td>4.059707</td>\n",
       "      <td>2.845635</td>\n",
       "    </tr>\n",
       "    <tr>\n",
       "      <th>489</th>\n",
       "      <td>NaN</td>\n",
       "      <td>Colombiano</td>\n",
       "      <td>7.096163</td>\n",
       "      <td>2.960235</td>\n",
       "    </tr>\n",
       "    <tr>\n",
       "      <th>490</th>\n",
       "      <td>18.860017</td>\n",
       "      <td>Brasileño</td>\n",
       "      <td>5.620329</td>\n",
       "      <td>NaN</td>\n",
       "    </tr>\n",
       "  </tbody>\n",
       "</table>\n",
       "<p>66 rows × 4 columns</p>\n",
       "</div>"
      ],
      "text/plain": [
       "            x1          x2        x3        x4\n",
       "9    19.891735    Mexicano  5.933169       NaN\n",
       "17    4.286580  Colombiano  6.624473       NaN\n",
       "18    6.578716         NaN  4.276853  3.138885\n",
       "19   19.743920    Mexicano  7.270445       NaN\n",
       "22         NaN  Colombiano  4.244171  3.059077\n",
       "..         ...         ...       ...       ...\n",
       "458  14.562191   Tailandés  4.433628       NaN\n",
       "479  16.030986         NaN  7.967528  2.744920\n",
       "487  13.976887         NaN  4.059707  2.845635\n",
       "489        NaN  Colombiano  7.096163  2.960235\n",
       "490  18.860017   Brasileño  5.620329       NaN\n",
       "\n",
       "[66 rows x 4 columns]"
      ]
     },
     "execution_count": 102,
     "metadata": {},
     "output_type": "execute_result"
    }
   ],
   "source": [
    "df[df.isna().any(axis= 1)]"
   ]
  },
  {
   "cell_type": "markdown",
   "metadata": {},
   "source": [
    "COLUMNA X1"
   ]
  },
  {
   "cell_type": "code",
   "execution_count": 11,
   "metadata": {},
   "outputs": [
    {
     "name": "stdout",
     "output_type": "stream",
     "text": [
      "Distribución de la columna 'x1':\n",
      "count    482.000000\n",
      "mean      11.946714\n",
      "std        5.519551\n",
      "min      -11.866135\n",
      "25%        8.513927\n",
      "50%       11.997242\n",
      "75%       15.061229\n",
      "max       36.922954\n",
      "Name: x1, dtype: float64\n",
      "\n"
     ]
    },
    {
     "data": {
      "image/png": "[encoded data removed]",
      "text/plain": [
       "<Figure size 640x480 with 1 Axes>"
      ]
     },
     "metadata": {},
     "output_type": "display_data"
    },
    {
     "name": "stdout",
     "output_type": "stream",
     "text": [
      "La columna 'x1' tiene valores atípicos:\n",
      "128    36.036833\n",
      "254   -11.866135\n",
      "260    36.922954\n",
      "348    -1.936713\n",
      "368    35.025965\n",
      "377   -11.328720\n",
      "407    35.909201\n",
      "Name: x1, dtype: float64\n",
      "\n",
      "Cantidad de valores nulos en la columna 'x1': 18\n",
      "\n"
     ]
    }
   ],
   "source": [
    "def analizar_columna(df, column_name):\n",
    "    # Obtener la columna del DataFrame\n",
    "    columna = df[column_name]\n",
    "    \n",
    "    # Calcular el rango intercuartílico (IQR)\n",
    "    Q1 = columna.quantile(0.25)\n",
    "    Q3 = columna.quantile(0.75)\n",
    "    IQR = Q3 - Q1\n",
    "    \n",
    "    # Identificar valores nulos\n",
    "    valores_nulos = columna.isnull().sum()\n",
    "    \n",
    "    # Identificar outliers\n",
    "    outliers = columna[(columna < (Q1 - 1.5 * IQR)) | (columna > (Q3 + 1.5 * IQR))]\n",
    "    \n",
    "    # Mostrar distribución de la columna\n",
    "    print(\"Distribución de la columna '{}':\".format(column_name))\n",
    "    print(columna.describe())\n",
    "    print()\n",
    "    \n",
    "    # Graficar histograma\n",
    "    plt.hist(columna, bins=10)  # Puedes ajustar el número de bins según tus datos\n",
    "    plt.title('Histograma de la columna {}'.format(column_name))\n",
    "    plt.xlabel('Valor')\n",
    "    plt.ylabel('Frecuencia')\n",
    "    plt.show()\n",
    "    \n",
    "    # Verificar si hay outliers\n",
    "    if len(outliers) > 0:\n",
    "        print(\"La columna '{}' tiene valores atípicos:\".format(column_name))\n",
    "        print(outliers)\n",
    "        print()\n",
    "    else:\n",
    "        print(\"La columna '{}' no tiene valores atípicos.\".format(column_name))\n",
    "        \n",
    "    # Mostrar cantidad de valores nulos\n",
    "    print(\"Cantidad de valores nulos en la columna '{}': {}\".format(column_name, valores_nulos))\n",
    "    print()\n",
    "\n",
    "# Ejemplo de uso\n",
    "# Suponiendo que 'df' es tu DataFrame y 'nombre_columna' es el nombre de la columna que deseas analizar\n",
    "nombre_columna = 'x1'  # Reemplaza 'nombre_de_la_columna' con el nombre real de la columna\n",
    "analizar_columna(df, nombre_columna)\n"
   ]
  },
  {
   "cell_type": "markdown",
   "metadata": {},
   "source": [
    "Debido a que es una variable numerica, con una distribución normal o cercano a la normal que tiene valores atípicos, lo recomendado es usar la mediana. "
   ]
  },
  {
   "cell_type": "code",
   "execution_count": 13,
   "metadata": {},
   "outputs": [
    {
     "name": "stdout",
     "output_type": "stream",
     "text": [
      "Ahora hay 0 valores nulos\n"
     ]
    },
    {
     "name": "stderr",
     "output_type": "stream",
     "text": [
      "C:\\Users\\maria\\AppData\\Local\\Temp\\ipykernel_15608\\3435134760.py:2: FutureWarning: A value is trying to be set on a copy of a DataFrame or Series through chained assignment using an inplace method.\n",
      "The behavior will change in pandas 3.0. This inplace method will never work because the intermediate object on which we are setting values always behaves as a copy.\n",
      "\n",
      "For example, when doing 'df[col].method(value, inplace=True)', try using 'df.method({col: value}, inplace=True)' or df[col] = df[col].method(value) instead, to perform the operation inplace on the original object.\n",
      "\n",
      "\n",
      "  df['x1'].fillna(mediana_A, inplace=True)\n"
     ]
    }
   ],
   "source": [
    "mediana_A = df['x1'].median()\n",
    "df['x1'].fillna(mediana_A, inplace=True)\n",
    "print(\"Ahora hay\",df['x1'].isna().sum(), \"valores nulos\")"
   ]
  },
  {
   "cell_type": "markdown",
   "metadata": {},
   "source": [
    "COLUMNA X3"
   ]
  },
  {
   "cell_type": "code",
   "execution_count": 14,
   "metadata": {},
   "outputs": [
    {
     "name": "stdout",
     "output_type": "stream",
     "text": [
      "Distribución de la columna 'x3':\n",
      "count    486.000000\n",
      "mean       5.955536\n",
      "std        1.180116\n",
      "min        4.010899\n",
      "25%        4.903998\n",
      "50%        5.887484\n",
      "75%        7.045557\n",
      "max        7.985803\n",
      "Name: x3, dtype: float64\n",
      "\n"
     ]
    },
    {
     "data": {
      "image/png": "[encoded data removed]",
      "text/plain": [
       "<Figure size 640x480 with 1 Axes>"
      ]
     },
     "metadata": {},
     "output_type": "display_data"
    },
    {
     "name": "stdout",
     "output_type": "stream",
     "text": [
      "La columna 'x3' no tiene valores atípicos.\n",
      "Cantidad de valores nulos en la columna 'x3': 14\n",
      "\n"
     ]
    }
   ],
   "source": [
    "analizar_columna(df, \"x3\")"
   ]
  },
  {
   "cell_type": "markdown",
   "metadata": {},
   "source": [
    "Debido a que es una variable numerica, con una distribución cercana a la uniforme lo recomendado es usar la sustitución aleatoria. "
   ]
  },
  {
   "cell_type": "code",
   "execution_count": 15,
   "metadata": {},
   "outputs": [
    {
     "name": "stdout",
     "output_type": "stream",
     "text": [
      "Ahora hay 0 valores nulos\n"
     ]
    },
    {
     "name": "stderr",
     "output_type": "stream",
     "text": [
      "C:\\Users\\maria\\AppData\\Local\\Temp\\ipykernel_15608\\3817881710.py:1: FutureWarning: A value is trying to be set on a copy of a DataFrame or Series through chained assignment using an inplace method.\n",
      "The behavior will change in pandas 3.0. This inplace method will never work because the intermediate object on which we are setting values always behaves as a copy.\n",
      "\n",
      "For example, when doing 'df[col].method(value, inplace=True)', try using 'df.method({col: value}, inplace=True)' or df[col] = df[col].method(value) instead, to perform the operation inplace on the original object.\n",
      "\n",
      "\n",
      "  df['x3'].fillna(df['x3'].sample(n=1).iloc[0], inplace=True)\n"
     ]
    }
   ],
   "source": [
    "df['x3'].fillna(df['x3'].sample(n=1).iloc[0], inplace=True)\n",
    "print(\"Ahora hay\",df['x3'].isna().sum(), \"valores nulos\")"
   ]
  },
  {
   "cell_type": "markdown",
   "metadata": {},
   "source": [
    "COLUMNA X4"
   ]
  },
  {
   "cell_type": "code",
   "execution_count": 16,
   "metadata": {},
   "outputs": [
    {
     "name": "stdout",
     "output_type": "stream",
     "text": [
      "Distribución de la columna 'x4':\n",
      "count    483.000000\n",
      "mean       3.003786\n",
      "std        0.194015\n",
      "min        2.506359\n",
      "25%        2.876961\n",
      "50%        3.000913\n",
      "75%        3.133229\n",
      "max        3.496185\n",
      "Name: x4, dtype: float64\n",
      "\n"
     ]
    },
    {
     "data": {
      "image/png": "[encoded data removed]",
      "text/plain": [
       "<Figure size 640x480 with 1 Axes>"
      ]
     },
     "metadata": {},
     "output_type": "display_data"
    },
    {
     "name": "stdout",
     "output_type": "stream",
     "text": [
      "La columna 'x4' no tiene valores atípicos.\n",
      "Cantidad de valores nulos en la columna 'x4': 17\n",
      "\n"
     ]
    }
   ],
   "source": [
    "analizar_columna(df, \"x4\")"
   ]
  },
  {
   "cell_type": "markdown",
   "metadata": {},
   "source": [
    "Debido a que es una variable numerica, con una distribución normal o cercano a la normal que tiene valores atípicos, lo recomendado es usar la mediana. "
   ]
  },
  {
   "cell_type": "code",
   "execution_count": 17,
   "metadata": {},
   "outputs": [
    {
     "name": "stdout",
     "output_type": "stream",
     "text": [
      "Ahora hay 0 valores nulos\n"
     ]
    },
    {
     "name": "stderr",
     "output_type": "stream",
     "text": [
      "C:\\Users\\maria\\AppData\\Local\\Temp\\ipykernel_15608\\2933458360.py:2: FutureWarning: A value is trying to be set on a copy of a DataFrame or Series through chained assignment using an inplace method.\n",
      "The behavior will change in pandas 3.0. This inplace method will never work because the intermediate object on which we are setting values always behaves as a copy.\n",
      "\n",
      "For example, when doing 'df[col].method(value, inplace=True)', try using 'df.method({col: value}, inplace=True)' or df[col] = df[col].method(value) instead, to perform the operation inplace on the original object.\n",
      "\n",
      "\n",
      "  df['x1'].fillna(mediana_B, inplace=True)\n"
     ]
    }
   ],
   "source": [
    "mediana_B = df['x1'].median()\n",
    "df['x1'].fillna(mediana_B, inplace=True)\n",
    "print(\"Ahora hay\",df['x1'].isna().sum(), \"valores nulos\")"
   ]
  },
  {
   "cell_type": "markdown",
   "metadata": {},
   "source": [
    "COLUMNA X2\n"
   ]
  },
  {
   "cell_type": "markdown",
   "metadata": {},
   "source": [
    "Debido a que es una variable categorica y no númerica es recomendado rellenarlo con la moda."
   ]
  },
  {
   "cell_type": "code",
   "execution_count": 19,
   "metadata": {},
   "outputs": [
    {
     "name": "stdout",
     "output_type": "stream",
     "text": [
      "Ahora hay 0 valores nulos\n"
     ]
    }
   ],
   "source": [
    "df['x2'].fillna(df['x2'].mode()[0], inplace=True)\n",
    "print(\"Ahora hay\",df['x2'].isna().sum(), \"valores nulos\")"
   ]
  }
 ],
 "metadata": {
  "kernelspec": {
   "display_name": "INGCaract",
   "language": "python",
   "name": "python3"
  },
  "language_info": {
   "codemirror_mode": {
    "name": "ipython",
    "version": 3
   },
   "file_extension": ".py",
   "mimetype": "text/x-python",
   "name": "python",
   "nbconvert_exporter": "python",
   "pygments_lexer": "ipython3",
   "version": "3.12.2"
  }
 },
 "nbformat": 4,
 "nbformat_minor": 2
}
